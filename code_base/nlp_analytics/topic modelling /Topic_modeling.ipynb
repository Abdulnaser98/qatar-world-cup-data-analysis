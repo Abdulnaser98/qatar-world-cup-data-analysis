{
  "cells": [
    {
      "cell_type": "markdown",
      "metadata": {
        "id": "Mo4nSQJAEczZ"
      },
      "source": [
        "# ***overview***:\n",
        "We decided to achieve the topic modeling task in a jypter notebook , because we need to manualley select the topics that are relevant to our task."
      ]
    },
    {
      "cell_type": "markdown",
      "metadata": {
        "id": "Yc46CRD2Ehjk"
      },
      "source": [
        "### ***import libraries***:\n"
      ]
    },
    {
      "cell_type": "code",
      "execution_count": 1,
      "metadata": {
        "colab": {
          "base_uri": "https://localhost:8080/"
        },
        "id": "Asu863g0EoVq",
        "outputId": "050f4e69-f7d6-4790-cb17-64786b26e50b"
      },
      "outputs": [
        {
          "name": "stdout",
          "output_type": "stream",
          "text": [
            "Looking in indexes: https://pypi.org/simple, https://us-python.pkg.dev/colab-wheels/public/simple/\n",
            "Collecting bertopic\n",
            "  Downloading bertopic-0.14.1-py2.py3-none-any.whl (120 kB)\n",
            "\u001b[2K     \u001b[90m━━━━━━━━━━━━━━━━━━━━━━━━━━━━━━━━━━━━━━━\u001b[0m \u001b[32m120.7/120.7 KB\u001b[0m \u001b[31m3.0 MB/s\u001b[0m eta \u001b[36m0:00:00\u001b[0m\n",
            "\u001b[?25hRequirement already satisfied: numpy>=1.20.0 in /usr/local/lib/python3.9/dist-packages (from bertopic) (1.22.4)\n",
            "Collecting umap-learn>=0.5.0\n",
            "  Downloading umap-learn-0.5.3.tar.gz (88 kB)\n",
            "\u001b[2K     \u001b[90m━━━━━━━━━━━━━━━━━━━━━━━━━━━━━━━━━━━━━━━━\u001b[0m \u001b[32m88.2/88.2 KB\u001b[0m \u001b[31m8.3 MB/s\u001b[0m eta \u001b[36m0:00:00\u001b[0m\n",
            "\u001b[?25h  Preparing metadata (setup.py) ... \u001b[?25l\u001b[?25hdone\n",
            "Collecting sentence-transformers>=0.4.1\n",
            "  Downloading sentence-transformers-2.2.2.tar.gz (85 kB)\n",
            "\u001b[2K     \u001b[90m━━━━━━━━━━━━━━━━━━━━━━━━━━━━━━━━━━━━━━━━\u001b[0m \u001b[32m86.0/86.0 KB\u001b[0m \u001b[31m3.5 MB/s\u001b[0m eta \u001b[36m0:00:00\u001b[0m\n",
            "\u001b[?25h  Preparing metadata (setup.py) ... \u001b[?25l\u001b[?25hdone\n",
            "Requirement already satisfied: tqdm>=4.41.1 in /usr/local/lib/python3.9/dist-packages (from bertopic) (4.65.0)\n",
            "Requirement already satisfied: scikit-learn>=0.22.2.post1 in /usr/local/lib/python3.9/dist-packages (from bertopic) (1.2.1)\n",
            "Requirement already satisfied: pandas>=1.1.5 in /usr/local/lib/python3.9/dist-packages (from bertopic) (1.3.5)\n",
            "Requirement already satisfied: plotly>=4.7.0 in /usr/local/lib/python3.9/dist-packages (from bertopic) (5.5.0)\n",
            "Collecting hdbscan>=0.8.29\n",
            "  Downloading hdbscan-0.8.29.tar.gz (5.2 MB)\n",
            "\u001b[2K     \u001b[90m━━━━━━━━━━━━━━━━━━━━━━━━━━━━━━━━━━━━━━━━\u001b[0m \u001b[32m5.2/5.2 MB\u001b[0m \u001b[31m46.7 MB/s\u001b[0m eta \u001b[36m0:00:00\u001b[0m\n",
            "\u001b[?25h  Installing build dependencies ... \u001b[?25l\u001b[?25hdone\n",
            "  Getting requirements to build wheel ... \u001b[?25l\u001b[?25hdone\n",
            "  Preparing metadata (pyproject.toml) ... \u001b[?25l\u001b[?25hdone\n",
            "Requirement already satisfied: scipy>=1.0 in /usr/local/lib/python3.9/dist-packages (from hdbscan>=0.8.29->bertopic) (1.10.1)\n",
            "Requirement already satisfied: cython>=0.27 in /usr/local/lib/python3.9/dist-packages (from hdbscan>=0.8.29->bertopic) (0.29.33)\n",
            "Requirement already satisfied: joblib>=1.0 in /usr/local/lib/python3.9/dist-packages (from hdbscan>=0.8.29->bertopic) (1.2.0)\n",
            "Requirement already satisfied: pytz>=2017.3 in /usr/local/lib/python3.9/dist-packages (from pandas>=1.1.5->bertopic) (2022.7.1)\n",
            "Requirement already satisfied: python-dateutil>=2.7.3 in /usr/local/lib/python3.9/dist-packages (from pandas>=1.1.5->bertopic) (2.8.2)\n",
            "Requirement already satisfied: six in /usr/local/lib/python3.9/dist-packages (from plotly>=4.7.0->bertopic) (1.15.0)\n",
            "Requirement already satisfied: tenacity>=6.2.0 in /usr/local/lib/python3.9/dist-packages (from plotly>=4.7.0->bertopic) (8.2.2)\n",
            "Requirement already satisfied: threadpoolctl>=2.0.0 in /usr/local/lib/python3.9/dist-packages (from scikit-learn>=0.22.2.post1->bertopic) (3.1.0)\n",
            "Collecting transformers<5.0.0,>=4.6.0\n",
            "  Downloading transformers-4.26.1-py3-none-any.whl (6.3 MB)\n",
            "\u001b[2K     \u001b[90m━━━━━━━━━━━━━━━━━━━━━━━━━━━━━━━━━━━━━━━━\u001b[0m \u001b[32m6.3/6.3 MB\u001b[0m \u001b[31m35.6 MB/s\u001b[0m eta \u001b[36m0:00:00\u001b[0m\n",
            "\u001b[?25hRequirement already satisfied: torch>=1.6.0 in /usr/local/lib/python3.9/dist-packages (from sentence-transformers>=0.4.1->bertopic) (1.13.1+cu116)\n",
            "Requirement already satisfied: torchvision in /usr/local/lib/python3.9/dist-packages (from sentence-transformers>=0.4.1->bertopic) (0.14.1+cu116)\n",
            "Requirement already satisfied: nltk in /usr/local/lib/python3.9/dist-packages (from sentence-transformers>=0.4.1->bertopic) (3.7)\n",
            "Collecting sentencepiece\n",
            "  Downloading sentencepiece-0.1.97-cp39-cp39-manylinux_2_17_x86_64.manylinux2014_x86_64.whl (1.3 MB)\n",
            "\u001b[2K     \u001b[90m━━━━━━━━━━━━━━━━━━━━━━━━━━━━━━━━━━━━━━━━\u001b[0m \u001b[32m1.3/1.3 MB\u001b[0m \u001b[31m20.3 MB/s\u001b[0m eta \u001b[36m0:00:00\u001b[0m\n",
            "\u001b[?25hCollecting huggingface-hub>=0.4.0\n",
            "  Downloading huggingface_hub-0.13.1-py3-none-any.whl (199 kB)\n",
            "\u001b[2K     \u001b[90m━━━━━━━━━━━━━━━━━━━━━━━━━━━━━━━━━━━━━━\u001b[0m \u001b[32m199.2/199.2 KB\u001b[0m \u001b[31m18.6 MB/s\u001b[0m eta \u001b[36m0:00:00\u001b[0m\n",
            "\u001b[?25hRequirement already satisfied: numba>=0.49 in /usr/local/lib/python3.9/dist-packages (from umap-learn>=0.5.0->bertopic) (0.56.4)\n",
            "Collecting pynndescent>=0.5\n",
            "  Downloading pynndescent-0.5.8.tar.gz (1.1 MB)\n",
            "\u001b[2K     \u001b[90m━━━━━━━━━━━━━━━━━━━━━━━━━━━━━━━━━━━━━━━━\u001b[0m \u001b[32m1.1/1.1 MB\u001b[0m \u001b[31m41.2 MB/s\u001b[0m eta \u001b[36m0:00:00\u001b[0m\n",
            "\u001b[?25h  Preparing metadata (setup.py) ... \u001b[?25l\u001b[?25hdone\n",
            "Requirement already satisfied: filelock in /usr/local/lib/python3.9/dist-packages (from huggingface-hub>=0.4.0->sentence-transformers>=0.4.1->bertopic) (3.9.0)\n",
            "Requirement already satisfied: requests in /usr/local/lib/python3.9/dist-packages (from huggingface-hub>=0.4.0->sentence-transformers>=0.4.1->bertopic) (2.25.1)\n",
            "Requirement already satisfied: typing-extensions>=3.7.4.3 in /usr/local/lib/python3.9/dist-packages (from huggingface-hub>=0.4.0->sentence-transformers>=0.4.1->bertopic) (4.5.0)\n",
            "Requirement already satisfied: packaging>=20.9 in /usr/local/lib/python3.9/dist-packages (from huggingface-hub>=0.4.0->sentence-transformers>=0.4.1->bertopic) (23.0)\n",
            "Requirement already satisfied: pyyaml>=5.1 in /usr/local/lib/python3.9/dist-packages (from huggingface-hub>=0.4.0->sentence-transformers>=0.4.1->bertopic) (6.0)\n",
            "Requirement already satisfied: llvmlite<0.40,>=0.39.0dev0 in /usr/local/lib/python3.9/dist-packages (from numba>=0.49->umap-learn>=0.5.0->bertopic) (0.39.1)\n",
            "Requirement already satisfied: setuptools in /usr/local/lib/python3.9/dist-packages (from numba>=0.49->umap-learn>=0.5.0->bertopic) (57.4.0)\n",
            "Requirement already satisfied: regex!=2019.12.17 in /usr/local/lib/python3.9/dist-packages (from transformers<5.0.0,>=4.6.0->sentence-transformers>=0.4.1->bertopic) (2022.6.2)\n",
            "Collecting tokenizers!=0.11.3,<0.14,>=0.11.1\n",
            "  Downloading tokenizers-0.13.2-cp39-cp39-manylinux_2_17_x86_64.manylinux2014_x86_64.whl (7.6 MB)\n",
            "\u001b[2K     \u001b[90m━━━━━━━━━━━━━━━━━━━━━━━━━━━━━━━━━━━━━━━━\u001b[0m \u001b[32m7.6/7.6 MB\u001b[0m \u001b[31m59.0 MB/s\u001b[0m eta \u001b[36m0:00:00\u001b[0m\n",
            "\u001b[?25hRequirement already satisfied: click in /usr/local/lib/python3.9/dist-packages (from nltk->sentence-transformers>=0.4.1->bertopic) (8.1.3)\n",
            "Requirement already satisfied: pillow!=8.3.*,>=5.3.0 in /usr/local/lib/python3.9/dist-packages (from torchvision->sentence-transformers>=0.4.1->bertopic) (8.4.0)\n",
            "Requirement already satisfied: certifi>=2017.4.17 in /usr/local/lib/python3.9/dist-packages (from requests->huggingface-hub>=0.4.0->sentence-transformers>=0.4.1->bertopic) (2022.12.7)\n",
            "Requirement already satisfied: idna<3,>=2.5 in /usr/local/lib/python3.9/dist-packages (from requests->huggingface-hub>=0.4.0->sentence-transformers>=0.4.1->bertopic) (2.10)\n",
            "Requirement already satisfied: urllib3<1.27,>=1.21.1 in /usr/local/lib/python3.9/dist-packages (from requests->huggingface-hub>=0.4.0->sentence-transformers>=0.4.1->bertopic) (1.26.14)\n",
            "Requirement already satisfied: chardet<5,>=3.0.2 in /usr/local/lib/python3.9/dist-packages (from requests->huggingface-hub>=0.4.0->sentence-transformers>=0.4.1->bertopic) (4.0.0)\n",
            "Building wheels for collected packages: hdbscan, sentence-transformers, umap-learn, pynndescent\n",
            "  Building wheel for hdbscan (pyproject.toml) ... \u001b[?25l\u001b[?25hdone\n",
            "  Created wheel for hdbscan: filename=hdbscan-0.8.29-cp39-cp39-linux_x86_64.whl size=3582147 sha256=8c0555e70a4e91b403f6f8fefaf10b146a4fca468250092ca6d4fa8577dbc446\n",
            "  Stored in directory: /root/.cache/pip/wheels/05/6f/88/1a4c04276b98306f00217a1e300e6ba0252c6aa4f7616067ae\n",
            "  Building wheel for sentence-transformers (setup.py) ... \u001b[?25l\u001b[?25hdone\n",
            "  Created wheel for sentence-transformers: filename=sentence_transformers-2.2.2-py3-none-any.whl size=125938 sha256=72487e484d1a7247b251125f32800165b53adc2abc9fedf2dcb8ffe39ae2e414\n",
            "  Stored in directory: /root/.cache/pip/wheels/71/67/06/162a3760c40d74dd40bc855d527008d26341c2b0ecf3e8e11f\n",
            "  Building wheel for umap-learn (setup.py) ... \u001b[?25l\u001b[?25hdone\n",
            "  Created wheel for umap-learn: filename=umap_learn-0.5.3-py3-none-any.whl size=82829 sha256=f9d1581fe1ce474bcbd0d07b4c0149093cc04964d3812efec4002ccf444d071a\n",
            "  Stored in directory: /root/.cache/pip/wheels/f4/3e/1c/596d0a463d17475af648688443fa4846fef624d1390339e7e9\n",
            "  Building wheel for pynndescent (setup.py) ... \u001b[?25l\u001b[?25hdone\n",
            "  Created wheel for pynndescent: filename=pynndescent-0.5.8-py3-none-any.whl size=55513 sha256=fd883409622f69eaf28da84ab66de8caaf6654e73c122da28c0cc7fbd1268863\n",
            "  Stored in directory: /root/.cache/pip/wheels/b9/89/cc/59ab91ef5b21dc2ab3635528d7d227f49dfc9169905dcb959d\n",
            "Successfully built hdbscan sentence-transformers umap-learn pynndescent\n",
            "Installing collected packages: tokenizers, sentencepiece, huggingface-hub, transformers, pynndescent, hdbscan, umap-learn, sentence-transformers, bertopic\n",
            "Successfully installed bertopic-0.14.1 hdbscan-0.8.29 huggingface-hub-0.13.1 pynndescent-0.5.8 sentence-transformers-2.2.2 sentencepiece-0.1.97 tokenizers-0.13.2 transformers-4.26.1 umap-learn-0.5.3\n"
          ]
        },
        {
          "name": "stderr",
          "output_type": "stream",
          "text": [
            "[nltk_data] Downloading package vader_lexicon to /root/nltk_data...\n"
          ]
        }
      ],
      "source": [
        "! pip install bertopic \n",
        "import os\n",
        "import nltk \n",
        "import datetime\n",
        "import bertopic\n",
        "import pandas as pd\n",
        "from bertopic import BERTopic\n",
        "from google.colab import drive\n",
        "import matplotlib.pyplot as plt\n",
        "from wordcloud import WordCloud\n",
        "from nltk.corpus import stopwords \n",
        "from sklearn.feature_extraction.text import TfidfVectorizer\n",
        "from sklearn.feature_extraction.text import TfidfTransformer\n",
        "from nltk.sentiment.vader import SentimentIntensityAnalyzer as SIA \n",
        "nltk.download('vader_lexicon')\n",
        "sia = SIA()"
      ]
    },
    {
      "cell_type": "markdown",
      "metadata": {
        "id": "8Mz7cxpiHZwG"
      },
      "source": [
        "### ***import Data***:\n"
      ]
    },
    {
      "cell_type": "code",
      "execution_count": 4,
      "metadata": {
        "colab": {
          "base_uri": "https://localhost:8080/"
        },
        "id": "DYU2Tn7kHcDA",
        "outputId": "524251d4-1982-401e-bdf1-202777167a39"
      },
      "outputs": [
        {
          "name": "stdout",
          "output_type": "stream",
          "text": [
            "Drive already mounted at /content/gdrive; to attempt to forcibly remount, call drive.mount(\"/content/gdrive\", force_remount=True).\n",
            "/content/gdrive/MyDrive/kaggledataset\n"
          ]
        }
      ],
      "source": [
        "aljazerra_cleaned_data = pd.read_csv(\"../../data_extraction/cleaned_data/aljazerra_cleaned_data.csv\")\n",
        "aljazerra_uncleaned_data = pd.read_csv(\"../../data_extraction/raw_data/aljazerra_data.csv\")\n",
        "bbc_cleaned_data = pd.read_csv(\"../../data_extraction/cleaned_data/bbc_cleaned_data.csv\")\n",
        "bbc_uncleaned_data = pd.read_csv(\"../../data_extraction/raw_data/bbc_data.csv\")\n",
        "guardian_cleaned_data = pd.read_csv(\"../../data_extraction/cleaned_data/guardian_cleaned_data.csv\")\n",
        "#guardian_uncleaned_data = pd.read_csv(\"guardian.CSV\")\n"
      ]
    },
    {
      "cell_type": "markdown",
      "metadata": {
        "id": "r-ZE3cCQKu6u"
      },
      "source": [
        "### ***General sentiment statistics***:"
      ]
    },
    {
      "cell_type": "code",
      "execution_count": 10,
      "metadata": {
        "id": "X4b6_aozK48s"
      },
      "outputs": [],
      "source": [
        "def generate_general_statistical_sentiment_scores(data):\n",
        "    sentiment_scores_general = {'positive_mean':data['title_main_content_positive_mean'].mean(), 'negatives_mean':data['title_main_content_negaitve_mean'].mean(), 'neutral_mean': data['title_main_content_neutral_mean'].mean()}\n",
        "    return sentiment_scores_general\n",
        "       \n",
        "\n",
        "def generate_title_statistical_sentiment_scores(data):\n",
        "    sentiment_scores_titles = {'positive_mean': data['title_positive_scores'].mean(), 'negatives_mean': data['title_negative_scores'].mean(), 'neutral_mean':data['title_neutral_scores'].mean()}\n",
        "    return sentiment_scores_titles "
      ]
    },
    {
      "cell_type": "markdown",
      "metadata": {
        "id": "z7bf9bTJKKLh"
      },
      "source": [
        "### ***Topic modeling***:\n"
      ]
    },
    {
      "cell_type": "markdown",
      "metadata": {
        "id": "Ji2AW3UjKRqs"
      },
      "source": [
        "#### 1) Aljazerra "
      ]
    },
    {
      "cell_type": "code",
      "execution_count": 89,
      "metadata": {
        "colab": {
          "base_uri": "https://localhost:8080/",
          "height": 104,
          "referenced_widgets": [
            "4e723f7e5f7b48f583c725bd97e664ca",
            "e09dc45e8bc24dc8a24b91590b822aca",
            "16423d4ff55649379f34366f5ea9054b",
            "b70a1e1d6ba047c38cd24f694869d5a3",
            "0669601b17ef4aa782e8394dcb429f99",
            "4b45a0e0d00b41ad99cfbff960b667ea",
            "aad277f4232a40fa9fb29dba10e511e5",
            "a61ea2867f7a4819bd754cb3709c1f91",
            "df20bf968a8843009bc3efb5c7d27305",
            "84d0b1f83d8a428c8759c9f7f0a64f97",
            "a789627d252d488a85babb84a472e399"
          ]
        },
        "id": "PhERIGNpKXJw",
        "outputId": "856ba6e8-e0b8-4cf3-9f41-89159bedbc12"
      },
      "outputs": [
        {
          "data": {
            "application/vnd.jupyter.widget-view+json": {
              "model_id": "4e723f7e5f7b48f583c725bd97e664ca",
              "version_major": 2,
              "version_minor": 0
            },
            "text/plain": [
              "Batches:   0%|          | 0/26 [00:00<?, ?it/s]"
            ]
          },
          "metadata": {},
          "output_type": "display_data"
        },
        {
          "name": "stderr",
          "output_type": "stream",
          "text": [
            "2023-03-13 14:58:58,178 - BERTopic - Transformed documents to Embeddings\n",
            "2023-03-13 14:59:02,395 - BERTopic - Reduced dimensionality\n",
            "2023-03-13 14:59:02,433 - BERTopic - Clustered reduced embeddings\n"
          ]
        }
      ],
      "source": [
        "model = BERTopic(verbose=True,embedding_model='paraphrase-MiniLM-L3-v2', min_topic_size= 7)\n",
        "headline_topics, _ = model.fit_transform(aljazerra_cleaned_data.main_content) "
      ]
    },
    {
      "cell_type": "code",
      "execution_count": 114,
      "metadata": {
        "colab": {
          "base_uri": "https://localhost:8080/",
          "height": 915
        },
        "id": "RmPTFeUYK_-R",
        "outputId": "9ec168b7-6707-4897-9d82-48749dcc098b"
      },
      "outputs": [
        {
          "name": "stdout",
          "output_type": "stream",
          "text": [
            "Number of topics: 27\n"
          ]
        },
        {
          "data": {
            "text/html": [
              "\n",
              "  <div id=\"df-1caa0a95-f04f-41cd-8931-2d750d8b17ee\">\n",
              "    <div class=\"colab-df-container\">\n",
              "      <div>\n",
              "<style scoped>\n",
              "    .dataframe tbody tr th:only-of-type {\n",
              "        vertical-align: middle;\n",
              "    }\n",
              "\n",
              "    .dataframe tbody tr th {\n",
              "        vertical-align: top;\n",
              "    }\n",
              "\n",
              "    .dataframe thead th {\n",
              "        text-align: right;\n",
              "    }\n",
              "</style>\n",
              "<table border=\"1\" class=\"dataframe\">\n",
              "  <thead>\n",
              "    <tr style=\"text-align: right;\">\n",
              "      <th></th>\n",
              "      <th>Topic</th>\n",
              "      <th>Count</th>\n",
              "      <th>Name</th>\n",
              "    </tr>\n",
              "  </thead>\n",
              "  <tbody>\n",
              "    <tr>\n",
              "      <th>0</th>\n",
              "      <td>-1</td>\n",
              "      <td>266</td>\n",
              "      <td>-1_al_tournament_also_one</td>\n",
              "    </tr>\n",
              "    <tr>\n",
              "      <th>1</th>\n",
              "      <td>0</td>\n",
              "      <td>67</td>\n",
              "      <td>0_morocco_moroccan_atlas_belgium</td>\n",
              "    </tr>\n",
              "    <tr>\n",
              "      <th>2</th>\n",
              "      <td>1</td>\n",
              "      <td>41</td>\n",
              "      <td>1_messi_argentina_lionel_final</td>\n",
              "    </tr>\n",
              "    <tr>\n",
              "      <th>3</th>\n",
              "      <td>2</td>\n",
              "      <td>37</td>\n",
              "      <td>2_croatia_japan_belgium_canada</td>\n",
              "    </tr>\n",
              "    <tr>\n",
              "      <th>4</th>\n",
              "      <td>3</td>\n",
              "      <td>35</td>\n",
              "      <td>3_november_group_best_appearances</td>\n",
              "    </tr>\n",
              "    <tr>\n",
              "      <th>5</th>\n",
              "      <td>4</td>\n",
              "      <td>34</td>\n",
              "      <td>4_doha_al_tea_country</td>\n",
              "    </tr>\n",
              "    <tr>\n",
              "      <th>6</th>\n",
              "      <td>5</td>\n",
              "      <td>31</td>\n",
              "      <td>5_cameroon_brazil_serbia_switzerland</td>\n",
              "    </tr>\n",
              "    <tr>\n",
              "      <th>7</th>\n",
              "      <td>6</td>\n",
              "      <td>30</td>\n",
              "      <td>6_group_ecuador_senegal_pm</td>\n",
              "    </tr>\n",
              "    <tr>\n",
              "      <th>8</th>\n",
              "      <td>7</td>\n",
              "      <td>28</td>\n",
              "      <td>7_host_tournament_first_teams</td>\n",
              "    </tr>\n",
              "    <tr>\n",
              "      <th>9</th>\n",
              "      <td>8</td>\n",
              "      <td>26</td>\n",
              "      <td>8_england_forwards_defenders_kane</td>\n",
              "    </tr>\n",
              "    <tr>\n",
              "      <th>10</th>\n",
              "      <td>9</td>\n",
              "      <td>21</td>\n",
              "      <td>9_costa_rica_zealand_spain</td>\n",
              "    </tr>\n",
              "    <tr>\n",
              "      <th>11</th>\n",
              "      <td>10</td>\n",
              "      <td>20</td>\n",
              "      <td>10_ronaldo_portugal_cristiano_santos</td>\n",
              "    </tr>\n",
              "    <tr>\n",
              "      <th>12</th>\n",
              "      <td>11</td>\n",
              "      <td>17</td>\n",
              "      <td>11_uruguay_south_ghana_korea</td>\n",
              "    </tr>\n",
              "    <tr>\n",
              "      <th>13</th>\n",
              "      <td>12</td>\n",
              "      <td>16</td>\n",
              "      <td>12_tunisia_denmark_australia_france</td>\n",
              "    </tr>\n",
              "    <tr>\n",
              "      <th>14</th>\n",
              "      <td>13</td>\n",
              "      <td>16</td>\n",
              "      <td>13_workers_labour_migrant_rights</td>\n",
              "    </tr>\n",
              "    <tr>\n",
              "      <th>15</th>\n",
              "      <td>14</td>\n",
              "      <td>15</td>\n",
              "      <td>14_iran_iranian_reza_protests</td>\n",
              "    </tr>\n",
              "    <tr>\n",
              "      <th>16</th>\n",
              "      <td>15</td>\n",
              "      <td>15</td>\n",
              "      <td>15_argentina_messi_saudi_lusail</td>\n",
              "    </tr>\n",
              "    <tr>\n",
              "      <th>17</th>\n",
              "      <td>16</td>\n",
              "      <td>13</td>\n",
              "      <td>16_france_mbappe_giroud_goal</td>\n",
              "    </tr>\n",
              "    <tr>\n",
              "      <th>18</th>\n",
              "      <td>17</td>\n",
              "      <td>13</td>\n",
              "      <td>17_maradona_argentina_aires_buenos</td>\n",
              "    </tr>\n",
              "    <tr>\n",
              "      <th>19</th>\n",
              "      <td>18</td>\n",
              "      <td>13</td>\n",
              "      <td>18_poland_mexico_lewandowski_saudi</td>\n",
              "    </tr>\n",
              "    <tr>\n",
              "      <th>20</th>\n",
              "      <td>19</td>\n",
              "      <td>13</td>\n",
              "      <td>19_infantino_rights_human_gulf</td>\n",
              "    </tr>\n",
              "    <tr>\n",
              "      <th>21</th>\n",
              "      <td>20</td>\n",
              "      <td>12</td>\n",
              "      <td>20_investigation_ibhais_committee_officials</td>\n",
              "    </tr>\n",
              "    <tr>\n",
              "      <th>22</th>\n",
              "      <td>21</td>\n",
              "      <td>12</td>\n",
              "      <td>21_kashef_predict_ai_percent</td>\n",
              "    </tr>\n",
              "    <tr>\n",
              "      <th>23</th>\n",
              "      <td>22</td>\n",
              "      <td>10</td>\n",
              "      <td>22_al_pele_brazil_saudi</td>\n",
              "    </tr>\n",
              "    <tr>\n",
              "      <th>24</th>\n",
              "      <td>23</td>\n",
              "      <td>9</td>\n",
              "      <td>23_kashef_predict_ai_prediction</td>\n",
              "    </tr>\n",
              "    <tr>\n",
              "      <th>25</th>\n",
              "      <td>24</td>\n",
              "      <td>7</td>\n",
              "      <td>24_vs_group_gmt_poland</td>\n",
              "    </tr>\n",
              "    <tr>\n",
              "      <th>26</th>\n",
              "      <td>25</td>\n",
              "      <td>7</td>\n",
              "      <td>25_accommodation_hayya_cruise_ships</td>\n",
              "    </tr>\n",
              "  </tbody>\n",
              "</table>\n",
              "</div>\n",
              "      <button class=\"colab-df-convert\" onclick=\"convertToInteractive('df-1caa0a95-f04f-41cd-8931-2d750d8b17ee')\"\n",
              "              title=\"Convert this dataframe to an interactive table.\"\n",
              "              style=\"display:none;\">\n",
              "        \n",
              "  <svg xmlns=\"http://www.w3.org/2000/svg\" height=\"24px\"viewBox=\"0 0 24 24\"\n",
              "       width=\"24px\">\n",
              "    <path d=\"M0 0h24v24H0V0z\" fill=\"none\"/>\n",
              "    <path d=\"M18.56 5.44l.94 2.06.94-2.06 2.06-.94-2.06-.94-.94-2.06-.94 2.06-2.06.94zm-11 1L8.5 8.5l.94-2.06 2.06-.94-2.06-.94L8.5 2.5l-.94 2.06-2.06.94zm10 10l.94 2.06.94-2.06 2.06-.94-2.06-.94-.94-2.06-.94 2.06-2.06.94z\"/><path d=\"M17.41 7.96l-1.37-1.37c-.4-.4-.92-.59-1.43-.59-.52 0-1.04.2-1.43.59L10.3 9.45l-7.72 7.72c-.78.78-.78 2.05 0 2.83L4 21.41c.39.39.9.59 1.41.59.51 0 1.02-.2 1.41-.59l7.78-7.78 2.81-2.81c.8-.78.8-2.07 0-2.86zM5.41 20L4 18.59l7.72-7.72 1.47 1.35L5.41 20z\"/>\n",
              "  </svg>\n",
              "      </button>\n",
              "      \n",
              "  <style>\n",
              "    .colab-df-container {\n",
              "      display:flex;\n",
              "      flex-wrap:wrap;\n",
              "      gap: 12px;\n",
              "    }\n",
              "\n",
              "    .colab-df-convert {\n",
              "      background-color: #E8F0FE;\n",
              "      border: none;\n",
              "      border-radius: 50%;\n",
              "      cursor: pointer;\n",
              "      display: none;\n",
              "      fill: #1967D2;\n",
              "      height: 32px;\n",
              "      padding: 0 0 0 0;\n",
              "      width: 32px;\n",
              "    }\n",
              "\n",
              "    .colab-df-convert:hover {\n",
              "      background-color: #E2EBFA;\n",
              "      box-shadow: 0px 1px 2px rgba(60, 64, 67, 0.3), 0px 1px 3px 1px rgba(60, 64, 67, 0.15);\n",
              "      fill: #174EA6;\n",
              "    }\n",
              "\n",
              "    [theme=dark] .colab-df-convert {\n",
              "      background-color: #3B4455;\n",
              "      fill: #D2E3FC;\n",
              "    }\n",
              "\n",
              "    [theme=dark] .colab-df-convert:hover {\n",
              "      background-color: #434B5C;\n",
              "      box-shadow: 0px 1px 3px 1px rgba(0, 0, 0, 0.15);\n",
              "      filter: drop-shadow(0px 1px 2px rgba(0, 0, 0, 0.3));\n",
              "      fill: #FFFFFF;\n",
              "    }\n",
              "  </style>\n",
              "\n",
              "      <script>\n",
              "        const buttonEl =\n",
              "          document.querySelector('#df-1caa0a95-f04f-41cd-8931-2d750d8b17ee button.colab-df-convert');\n",
              "        buttonEl.style.display =\n",
              "          google.colab.kernel.accessAllowed ? 'block' : 'none';\n",
              "\n",
              "        async function convertToInteractive(key) {\n",
              "          const element = document.querySelector('#df-1caa0a95-f04f-41cd-8931-2d750d8b17ee');\n",
              "          const dataTable =\n",
              "            await google.colab.kernel.invokeFunction('convertToInteractive',\n",
              "                                                     [key], {});\n",
              "          if (!dataTable) return;\n",
              "\n",
              "          const docLinkHtml = 'Like what you see? Visit the ' +\n",
              "            '<a target=\"_blank\" href=https://colab.research.google.com/notebooks/data_table.ipynb>data table notebook</a>'\n",
              "            + ' to learn more about interactive tables.';\n",
              "          element.innerHTML = '';\n",
              "          dataTable['output_type'] = 'display_data';\n",
              "          await google.colab.output.renderOutput(dataTable, element);\n",
              "          const docLink = document.createElement('div');\n",
              "          docLink.innerHTML = docLinkHtml;\n",
              "          element.appendChild(docLink);\n",
              "        }\n",
              "      </script>\n",
              "    </div>\n",
              "  </div>\n",
              "  "
            ],
            "text/plain": [
              "    Topic  Count                                         Name\n",
              "0      -1    266                    -1_al_tournament_also_one\n",
              "1       0     67             0_morocco_moroccan_atlas_belgium\n",
              "2       1     41               1_messi_argentina_lionel_final\n",
              "3       2     37               2_croatia_japan_belgium_canada\n",
              "4       3     35            3_november_group_best_appearances\n",
              "5       4     34                        4_doha_al_tea_country\n",
              "6       5     31         5_cameroon_brazil_serbia_switzerland\n",
              "7       6     30                   6_group_ecuador_senegal_pm\n",
              "8       7     28                7_host_tournament_first_teams\n",
              "9       8     26            8_england_forwards_defenders_kane\n",
              "10      9     21                   9_costa_rica_zealand_spain\n",
              "11     10     20         10_ronaldo_portugal_cristiano_santos\n",
              "12     11     17                 11_uruguay_south_ghana_korea\n",
              "13     12     16          12_tunisia_denmark_australia_france\n",
              "14     13     16             13_workers_labour_migrant_rights\n",
              "15     14     15                14_iran_iranian_reza_protests\n",
              "16     15     15              15_argentina_messi_saudi_lusail\n",
              "17     16     13                 16_france_mbappe_giroud_goal\n",
              "18     17     13           17_maradona_argentina_aires_buenos\n",
              "19     18     13           18_poland_mexico_lewandowski_saudi\n",
              "20     19     13               19_infantino_rights_human_gulf\n",
              "21     20     12  20_investigation_ibhais_committee_officials\n",
              "22     21     12                 21_kashef_predict_ai_percent\n",
              "23     22     10                      22_al_pele_brazil_saudi\n",
              "24     23      9              23_kashef_predict_ai_prediction\n",
              "25     24      7                       24_vs_group_gmt_poland\n",
              "26     25      7          25_accommodation_hayya_cruise_ships"
            ]
          },
          "execution_count": 114,
          "metadata": {},
          "output_type": "execute_result"
        }
      ],
      "source": [
        "freq = model.get_topic_info()\n",
        "print(\"Number of topics: {}\".format( len(freq)))\n",
        "freq.head(40)"
      ]
    },
    {
      "cell_type": "code",
      "execution_count": 91,
      "metadata": {
        "id": "IXh2nXDBUwQX"
      },
      "outputs": [],
      "source": [
        "aljazerra_cleaned_data['cluster'] = headline_topics"
      ]
    },
    {
      "cell_type": "markdown",
      "metadata": {
        "id": "qjQhSLHwsJS3"
      },
      "source": [
        "#### Sentiment analysis on the following topics:\n",
        "\n",
        "\n",
        "*   Corruption allegations:\n",
        "    (investigation_ibhais_committee_officials)\n",
        "*   Rights of migrant workers: (workers_labour_migrant_rights)\n",
        "\n",
        "\n",
        "\n",
        "\n",
        "\n"
      ]
    },
    {
      "cell_type": "markdown",
      "metadata": {
        "id": "9-TtOIe5wfnB"
      },
      "source": [
        "**Sentiment functions**"
      ]
    },
    {
      "cell_type": "markdown",
      "metadata": {
        "id": "CQs2PzYetbRK"
      },
      "source": [
        " 1) Investigations about allegations of bribery:\n",
        " (investigation_ibhais_committee_officials)"
      ]
    },
    {
      "cell_type": "code",
      "execution_count": 93,
      "metadata": {
        "colab": {
          "base_uri": "https://localhost:8080/"
        },
        "id": "JCVRDg6-gipk",
        "outputId": "7625774c-229c-4957-9003-83fe794d510f"
      },
      "outputs": [
        {
          "name": "stdout",
          "output_type": "stream",
          "text": [
            "The general sentiment scores (the average of the title and main content) of Al Jazeera regarding the subtopic 'allegations of corruption' are : \n",
            " {'positive_mean': 0.08487499999999999, 'negatives_mean': 0.113, 'neutral_mean': 0.7828333333333334}\n",
            "The titles sentiment scores of  Al Jazeera regarding the subtopic 'allegations of corruption' are: \n",
            " {'positive_mean': 0.0655, 'negatives_mean': 0.17758333333333334, 'neutral_mean': 0.7569166666666667} \n"
          ]
        }
      ],
      "source": [
        "aljazerra_allegations_of_corruption = aljazerra_cleaned_data.loc[aljazerra_cleaned_data[\"cluster\"]==20]\n",
        "aljazerra_sentiment_scores_general_dictionary = generate_general_statistical_sentiment_scores(aljazerra_allegations_of_corruption)\n",
        "aljazerra_sentiment_scores_titles_dictionary = generate_title_statistical_sentiment_scores(aljazerra_allegations_of_corruption)\n",
        "print(\"The general sentiment scores (the average of the title and main content) of Al Jazeera regarding the subtopic 'allegations of corruption' are \"\": \\n {}\".format(aljazerra_sentiment_scores_general_dictionary))\n",
        "print(\"The titles sentiment scores of  Al Jazeera regarding the subtopic 'allegations of corruption' are: \\n {} \".format(aljazerra_sentiment_scores_titles_dictionary))"
      ]
    },
    {
      "cell_type": "code",
      "execution_count": 42,
      "metadata": {
        "id": "RMd3dI84soAO"
      },
      "outputs": [],
      "source": [
        "merged_df = pd.merge(aljazerra_allegations_of_corruption, aljazerra_uncleaned_data, on='ID')\n",
        "merged_df.to_csv(\"aljazeera_subtopic_corruption_allegations_data.csv\")"
      ]
    },
    {
      "cell_type": "markdown",
      "metadata": {
        "id": "TpPrR59c4oVU"
      },
      "source": [
        " 2) migrant workers rights:\n",
        " (workers_labour_migrant_rights)"
      ]
    },
    {
      "cell_type": "code",
      "execution_count": 95,
      "metadata": {
        "colab": {
          "base_uri": "https://localhost:8080/"
        },
        "id": "vKbW3_nhSq3R",
        "outputId": "6b4867b6-d653-44c7-e870-9cc88f0e54e0"
      },
      "outputs": [
        {
          "name": "stdout",
          "output_type": "stream",
          "text": [
            "The general sentiment scores (the average of the title and main content) of Al Jazeera reagrding the subtopic 'worker rights' are: \n",
            " {'positive_mean': 0.14409375, 'negatives_mean': 0.1033125, 'neutral_mean': 0.742}\n",
            "The titles sentiment scores of Al jazerra regarding the subtopic 'worker rights' are: \n",
            " {'positive_mean': 0.1333125, 'negatives_mean': 0.1714375, 'neutral_mean': 0.6952499999999999} \n"
          ]
        }
      ],
      "source": [
        "aljazerra_workers_rights = aljazerra_cleaned_data.loc[(aljazerra_cleaned_data[\"cluster\"]==13)]\n",
        "aljazerra_sentiment_scores_general_dictionary = generate_general_statistical_sentiment_scores(aljazerra_workers_rights)\n",
        "aljazerra_sentiment_scores_titles_dictionary = generate_title_statistical_sentiment_scores(aljazerra_workers_rights)\n",
        "print(\"The general sentiment scores (the average of the title and main content) of Al Jazeera reagrding the subtopic 'worker rights' are: \\n {}\".format(aljazerra_sentiment_scores_general_dictionary))\n",
        "print(\"The titles sentiment scores of Al jazerra regarding the subtopic 'worker rights' are: \\n {} \".format(aljazerra_sentiment_scores_titles_dictionary))"
      ]
    },
    {
      "cell_type": "code",
      "execution_count": 69,
      "metadata": {
        "id": "_bJ6s1KPyPew"
      },
      "outputs": [],
      "source": [
        "merged_df = pd.merge(aljazerra_workers_rights, aljazerra_uncleaned_data, on='ID')\n",
        "merged_df.to_csv(\"aljazerra_subtopic_worker_rights_data.csv\")"
      ]
    },
    {
      "cell_type": "markdown",
      "metadata": {
        "id": "2HOdvE_m80vK"
      },
      "source": [
        "#### 1) BBC "
      ]
    },
    {
      "cell_type": "code",
      "execution_count": null,
      "metadata": {
        "colab": {
          "base_uri": "https://localhost:8080/",
          "height": 104,
          "referenced_widgets": [
            "ea29ea0042d0443cb301b3389c501ed6",
            "25e8c442e9494ef189573cdf42ada30c",
            "157a319bb3f54ec893fc294ceed8cd49",
            "87d7f389c99441879b0a88ac50a99e36",
            "d08a0c5439e24bb69d40a5707f3bc5da",
            "d7d82e9edd0b4331a14f1ef85cbd9183",
            "75c0b5372a85494794c485819e4fec1b",
            "394a8f7b417c4c83bdeb4b177227ae0e",
            "cfc66ce0c2bf433fbbf1cfc430e33918",
            "ad74510da9e94b8db3120c3e90a54b01",
            "16b3e32a75ea420f8a428e8c4110f395"
          ]
        },
        "id": "x-BypW_P82IM",
        "outputId": "569310a3-86b3-4ee1-c328-dfeb50bc8143"
      },
      "outputs": [
        {
          "data": {
            "application/vnd.jupyter.widget-view+json": {
              "model_id": "ea29ea0042d0443cb301b3389c501ed6",
              "version_major": 2,
              "version_minor": 0
            },
            "text/plain": [
              "Batches:   0%|          | 0/8 [00:00<?, ?it/s]"
            ]
          },
          "metadata": {},
          "output_type": "display_data"
        },
        {
          "name": "stderr",
          "output_type": "stream",
          "text": [
            "2023-03-06 17:30:53,038 - BERTopic - Transformed documents to Embeddings\n",
            "2023-03-06 17:30:59,994 - BERTopic - Reduced dimensionality\n",
            "2023-03-06 17:31:00,017 - BERTopic - Clustered reduced embeddings\n"
          ]
        }
      ],
      "source": [
        "model = BERTopic(verbose=True,embedding_model='paraphrase-MiniLM-L3-v2', min_topic_size= 3)\n",
        "headline_topics, _ = model.fit_transform(bbc_cleaned_data.main_content)"
      ]
    },
    {
      "cell_type": "code",
      "execution_count": null,
      "metadata": {
        "colab": {
          "base_uri": "https://localhost:8080/",
          "height": 695
        },
        "id": "XgLnHJ3Q9UMH",
        "outputId": "4a93a47d-d7b9-4277-803c-8ad171bbef17"
      },
      "outputs": [
        {
          "name": "stdout",
          "output_type": "stream",
          "text": [
            "Number of topics: 20\n"
          ]
        },
        {
          "data": {
            "text/html": [
              "\n",
              "  <div id=\"df-15589153-387e-444c-966e-879e82b15920\">\n",
              "    <div class=\"colab-df-container\">\n",
              "      <div>\n",
              "<style scoped>\n",
              "    .dataframe tbody tr th:only-of-type {\n",
              "        vertical-align: middle;\n",
              "    }\n",
              "\n",
              "    .dataframe tbody tr th {\n",
              "        vertical-align: top;\n",
              "    }\n",
              "\n",
              "    .dataframe thead th {\n",
              "        text-align: right;\n",
              "    }\n",
              "</style>\n",
              "<table border=\"1\" class=\"dataframe\">\n",
              "  <thead>\n",
              "    <tr style=\"text-align: right;\">\n",
              "      <th></th>\n",
              "      <th>Topic</th>\n",
              "      <th>Count</th>\n",
              "      <th>Name</th>\n",
              "    </tr>\n",
              "  </thead>\n",
              "  <tbody>\n",
              "    <tr>\n",
              "      <th>0</th>\n",
              "      <td>-1</td>\n",
              "      <td>45</td>\n",
              "      <td>-1_people_one_rights_would</td>\n",
              "    </tr>\n",
              "    <tr>\n",
              "      <th>1</th>\n",
              "      <td>0</td>\n",
              "      <td>43</td>\n",
              "      <td>0_lgbt_rights_gay_human</td>\n",
              "    </tr>\n",
              "    <tr>\n",
              "      <th>2</th>\n",
              "      <td>1</td>\n",
              "      <td>15</td>\n",
              "      <td>1_saudi_arabia_al_gulf</td>\n",
              "    </tr>\n",
              "    <tr>\n",
              "      <th>3</th>\n",
              "      <td>2</td>\n",
              "      <td>13</td>\n",
              "      <td>2_game_iran_england_win</td>\n",
              "    </tr>\n",
              "    <tr>\n",
              "      <th>4</th>\n",
              "      <td>3</td>\n",
              "      <td>11</td>\n",
              "      <td>3_airport_cardiff_tenerife_get</td>\n",
              "    </tr>\n",
              "    <tr>\n",
              "      <th>5</th>\n",
              "      <td>4</td>\n",
              "      <td>11</td>\n",
              "      <td>4_algeria_moroccan_final_minutes</td>\n",
              "    </tr>\n",
              "    <tr>\n",
              "      <th>6</th>\n",
              "      <td>5</td>\n",
              "      <td>9</td>\n",
              "      <td>5_neville_itv_russia_bbc</td>\n",
              "    </tr>\n",
              "    <tr>\n",
              "      <th>7</th>\n",
              "      <td>6</td>\n",
              "      <td>9</td>\n",
              "      <td>6_tournament_players_infantino_years</td>\n",
              "    </tr>\n",
              "    <tr>\n",
              "      <th>8</th>\n",
              "      <td>7</td>\n",
              "      <td>9</td>\n",
              "      <td>7_workers_migrant_labour_ibhais</td>\n",
              "    </tr>\n",
              "    <tr>\n",
              "      <th>9</th>\n",
              "      <td>8</td>\n",
              "      <td>8</td>\n",
              "      <td>8_welsh_song_hyd_yma</td>\n",
              "    </tr>\n",
              "    <tr>\n",
              "      <th>10</th>\n",
              "      <td>9</td>\n",
              "      <td>7</td>\n",
              "      <td>9_amnesty_workers_rights_labour</td>\n",
              "    </tr>\n",
              "    <tr>\n",
              "      <th>11</th>\n",
              "      <td>10</td>\n",
              "      <td>7</td>\n",
              "      <td>10_family_tsakanika_inquest_crash</td>\n",
              "    </tr>\n",
              "    <tr>\n",
              "      <th>12</th>\n",
              "      <td>11</td>\n",
              "      <td>7</td>\n",
              "      <td>11_england_city_fan_rooms</td>\n",
              "    </tr>\n",
              "    <tr>\n",
              "      <th>13</th>\n",
              "      <td>12</td>\n",
              "      <td>6</td>\n",
              "      <td>12_game_lusail_winners_stadium</td>\n",
              "    </tr>\n",
              "    <tr>\n",
              "      <th>14</th>\n",
              "      <td>13</td>\n",
              "      <td>5</td>\n",
              "      <td>13_fan_stadiums_around_al</td>\n",
              "    </tr>\n",
              "    <tr>\n",
              "      <th>15</th>\n",
              "      <td>14</td>\n",
              "      <td>5</td>\n",
              "      <td>14_neco_dave_speed_welsh</td>\n",
              "    </tr>\n",
              "    <tr>\n",
              "      <th>16</th>\n",
              "      <td>15</td>\n",
              "      <td>5</td>\n",
              "      <td>15_iran_iranian_amini_protesters</td>\n",
              "    </tr>\n",
              "    <tr>\n",
              "      <th>17</th>\n",
              "      <td>16</td>\n",
              "      <td>4</td>\n",
              "      <td>16_glendinning_interpol_family_brother</td>\n",
              "    </tr>\n",
              "    <tr>\n",
              "      <th>18</th>\n",
              "      <td>17</td>\n",
              "      <td>4</td>\n",
              "      <td>17_alcohol_minute_sale_ban</td>\n",
              "    </tr>\n",
              "    <tr>\n",
              "      <th>19</th>\n",
              "      <td>18</td>\n",
              "      <td>3</td>\n",
              "      <td>18_carbon_flights_emissions_shuttle</td>\n",
              "    </tr>\n",
              "  </tbody>\n",
              "</table>\n",
              "</div>\n",
              "      <button class=\"colab-df-convert\" onclick=\"convertToInteractive('df-15589153-387e-444c-966e-879e82b15920')\"\n",
              "              title=\"Convert this dataframe to an interactive table.\"\n",
              "              style=\"display:none;\">\n",
              "        \n",
              "  <svg xmlns=\"http://www.w3.org/2000/svg\" height=\"24px\"viewBox=\"0 0 24 24\"\n",
              "       width=\"24px\">\n",
              "    <path d=\"M0 0h24v24H0V0z\" fill=\"none\"/>\n",
              "    <path d=\"M18.56 5.44l.94 2.06.94-2.06 2.06-.94-2.06-.94-.94-2.06-.94 2.06-2.06.94zm-11 1L8.5 8.5l.94-2.06 2.06-.94-2.06-.94L8.5 2.5l-.94 2.06-2.06.94zm10 10l.94 2.06.94-2.06 2.06-.94-2.06-.94-.94-2.06-.94 2.06-2.06.94z\"/><path d=\"M17.41 7.96l-1.37-1.37c-.4-.4-.92-.59-1.43-.59-.52 0-1.04.2-1.43.59L10.3 9.45l-7.72 7.72c-.78.78-.78 2.05 0 2.83L4 21.41c.39.39.9.59 1.41.59.51 0 1.02-.2 1.41-.59l7.78-7.78 2.81-2.81c.8-.78.8-2.07 0-2.86zM5.41 20L4 18.59l7.72-7.72 1.47 1.35L5.41 20z\"/>\n",
              "  </svg>\n",
              "      </button>\n",
              "      \n",
              "  <style>\n",
              "    .colab-df-container {\n",
              "      display:flex;\n",
              "      flex-wrap:wrap;\n",
              "      gap: 12px;\n",
              "    }\n",
              "\n",
              "    .colab-df-convert {\n",
              "      background-color: #E8F0FE;\n",
              "      border: none;\n",
              "      border-radius: 50%;\n",
              "      cursor: pointer;\n",
              "      display: none;\n",
              "      fill: #1967D2;\n",
              "      height: 32px;\n",
              "      padding: 0 0 0 0;\n",
              "      width: 32px;\n",
              "    }\n",
              "\n",
              "    .colab-df-convert:hover {\n",
              "      background-color: #E2EBFA;\n",
              "      box-shadow: 0px 1px 2px rgba(60, 64, 67, 0.3), 0px 1px 3px 1px rgba(60, 64, 67, 0.15);\n",
              "      fill: #174EA6;\n",
              "    }\n",
              "\n",
              "    [theme=dark] .colab-df-convert {\n",
              "      background-color: #3B4455;\n",
              "      fill: #D2E3FC;\n",
              "    }\n",
              "\n",
              "    [theme=dark] .colab-df-convert:hover {\n",
              "      background-color: #434B5C;\n",
              "      box-shadow: 0px 1px 3px 1px rgba(0, 0, 0, 0.15);\n",
              "      filter: drop-shadow(0px 1px 2px rgba(0, 0, 0, 0.3));\n",
              "      fill: #FFFFFF;\n",
              "    }\n",
              "  </style>\n",
              "\n",
              "      <script>\n",
              "        const buttonEl =\n",
              "          document.querySelector('#df-15589153-387e-444c-966e-879e82b15920 button.colab-df-convert');\n",
              "        buttonEl.style.display =\n",
              "          google.colab.kernel.accessAllowed ? 'block' : 'none';\n",
              "\n",
              "        async function convertToInteractive(key) {\n",
              "          const element = document.querySelector('#df-15589153-387e-444c-966e-879e82b15920');\n",
              "          const dataTable =\n",
              "            await google.colab.kernel.invokeFunction('convertToInteractive',\n",
              "                                                     [key], {});\n",
              "          if (!dataTable) return;\n",
              "\n",
              "          const docLinkHtml = 'Like what you see? Visit the ' +\n",
              "            '<a target=\"_blank\" href=https://colab.research.google.com/notebooks/data_table.ipynb>data table notebook</a>'\n",
              "            + ' to learn more about interactive tables.';\n",
              "          element.innerHTML = '';\n",
              "          dataTable['output_type'] = 'display_data';\n",
              "          await google.colab.output.renderOutput(dataTable, element);\n",
              "          const docLink = document.createElement('div');\n",
              "          docLink.innerHTML = docLinkHtml;\n",
              "          element.appendChild(docLink);\n",
              "        }\n",
              "      </script>\n",
              "    </div>\n",
              "  </div>\n",
              "  "
            ],
            "text/plain": [
              "    Topic  Count                                    Name\n",
              "0      -1     45              -1_people_one_rights_would\n",
              "1       0     43                 0_lgbt_rights_gay_human\n",
              "2       1     15                  1_saudi_arabia_al_gulf\n",
              "3       2     13                 2_game_iran_england_win\n",
              "4       3     11          3_airport_cardiff_tenerife_get\n",
              "5       4     11        4_algeria_moroccan_final_minutes\n",
              "6       5      9                5_neville_itv_russia_bbc\n",
              "7       6      9    6_tournament_players_infantino_years\n",
              "8       7      9         7_workers_migrant_labour_ibhais\n",
              "9       8      8                    8_welsh_song_hyd_yma\n",
              "10      9      7         9_amnesty_workers_rights_labour\n",
              "11     10      7       10_family_tsakanika_inquest_crash\n",
              "12     11      7               11_england_city_fan_rooms\n",
              "13     12      6          12_game_lusail_winners_stadium\n",
              "14     13      5               13_fan_stadiums_around_al\n",
              "15     14      5                14_neco_dave_speed_welsh\n",
              "16     15      5        15_iran_iranian_amini_protesters\n",
              "17     16      4  16_glendinning_interpol_family_brother\n",
              "18     17      4              17_alcohol_minute_sale_ban\n",
              "19     18      3     18_carbon_flights_emissions_shuttle"
            ]
          },
          "execution_count": 41,
          "metadata": {},
          "output_type": "execute_result"
        }
      ],
      "source": [
        "freq = model.get_topic_info()\n",
        "print(\"Number of topics: {}\".format( len(freq)))\n",
        "freq.head(27)"
      ]
    },
    {
      "cell_type": "code",
      "execution_count": null,
      "metadata": {
        "colab": {
          "base_uri": "https://localhost:8080/",
          "height": 206
        },
        "id": "G-leiSOt9nNk",
        "outputId": "e5d76dd2-2d3f-47e2-ccb2-83ba23eebbd0"
      },
      "outputs": [
        {
          "data": {
            "text/html": [
              "\n",
              "  <div id=\"df-6c6ccbe8-e70e-4163-8755-a1f8fdb4fdb6\">\n",
              "    <div class=\"colab-df-container\">\n",
              "      <div>\n",
              "<style scoped>\n",
              "    .dataframe tbody tr th:only-of-type {\n",
              "        vertical-align: middle;\n",
              "    }\n",
              "\n",
              "    .dataframe tbody tr th {\n",
              "        vertical-align: top;\n",
              "    }\n",
              "\n",
              "    .dataframe thead th {\n",
              "        text-align: right;\n",
              "    }\n",
              "</style>\n",
              "<table border=\"1\" class=\"dataframe\">\n",
              "  <thead>\n",
              "    <tr style=\"text-align: right;\">\n",
              "      <th></th>\n",
              "      <th>Unnamed: 0</th>\n",
              "      <th>Unnamed: 0.1</th>\n",
              "      <th>Unnamed: 0.1.1</th>\n",
              "      <th>date</th>\n",
              "      <th>title</th>\n",
              "      <th>main_content</th>\n",
              "      <th>ID</th>\n",
              "      <th>cluster</th>\n",
              "    </tr>\n",
              "  </thead>\n",
              "  <tbody>\n",
              "    <tr>\n",
              "      <th>0</th>\n",
              "      <td>0</td>\n",
              "      <td>0</td>\n",
              "      <td>0</td>\n",
              "      <td>14 February 2023\\n14 February 2023</td>\n",
              "      <td>turkey syria earthquakes send mobile homes aff...</td>\n",
              "      <td>sending mobile homes used accommodation areas ...</td>\n",
              "      <td>0</td>\n",
              "      <td>-1</td>\n",
              "    </tr>\n",
              "    <tr>\n",
              "      <th>1</th>\n",
              "      <td>1</td>\n",
              "      <td>2</td>\n",
              "      <td>2</td>\n",
              "      <td>23 January</td>\n",
              "      <td>gary neville ofcom pursuing complaints comments</td>\n",
              "      <td>ofcom pursuing complaints received itv viewers...</td>\n",
              "      <td>2</td>\n",
              "      <td>5</td>\n",
              "    </tr>\n",
              "    <tr>\n",
              "      <th>2</th>\n",
              "      <td>2</td>\n",
              "      <td>3</td>\n",
              "      <td>3</td>\n",
              "      <td>5 January</td>\n",
              "      <td>drakeford regrets hotel freebie</td>\n",
              "      <td>mark drakeford says emphasised human rights me...</td>\n",
              "      <td>3</td>\n",
              "      <td>0</td>\n",
              "    </tr>\n",
              "    <tr>\n",
              "      <th>3</th>\n",
              "      <td>3</td>\n",
              "      <td>4</td>\n",
              "      <td>4</td>\n",
              "      <td>5 January</td>\n",
              "      <td>mark drakeford defends taking hospitality way</td>\n",
              "      <td>first minister mark drakeford says choice stay...</td>\n",
              "      <td>4</td>\n",
              "      <td>0</td>\n",
              "    </tr>\n",
              "    <tr>\n",
              "      <th>4</th>\n",
              "      <td>4</td>\n",
              "      <td>6</td>\n",
              "      <td>6</td>\n",
              "      <td>19 December 2022</td>\n",
              "      <td>rishi sunak wades gary neville workers rights row</td>\n",
              "      <td>audiences want hear gary neville discuss polit...</td>\n",
              "      <td>6</td>\n",
              "      <td>5</td>\n",
              "    </tr>\n",
              "  </tbody>\n",
              "</table>\n",
              "</div>\n",
              "      <button class=\"colab-df-convert\" onclick=\"convertToInteractive('df-6c6ccbe8-e70e-4163-8755-a1f8fdb4fdb6')\"\n",
              "              title=\"Convert this dataframe to an interactive table.\"\n",
              "              style=\"display:none;\">\n",
              "        \n",
              "  <svg xmlns=\"http://www.w3.org/2000/svg\" height=\"24px\"viewBox=\"0 0 24 24\"\n",
              "       width=\"24px\">\n",
              "    <path d=\"M0 0h24v24H0V0z\" fill=\"none\"/>\n",
              "    <path d=\"M18.56 5.44l.94 2.06.94-2.06 2.06-.94-2.06-.94-.94-2.06-.94 2.06-2.06.94zm-11 1L8.5 8.5l.94-2.06 2.06-.94-2.06-.94L8.5 2.5l-.94 2.06-2.06.94zm10 10l.94 2.06.94-2.06 2.06-.94-2.06-.94-.94-2.06-.94 2.06-2.06.94z\"/><path d=\"M17.41 7.96l-1.37-1.37c-.4-.4-.92-.59-1.43-.59-.52 0-1.04.2-1.43.59L10.3 9.45l-7.72 7.72c-.78.78-.78 2.05 0 2.83L4 21.41c.39.39.9.59 1.41.59.51 0 1.02-.2 1.41-.59l7.78-7.78 2.81-2.81c.8-.78.8-2.07 0-2.86zM5.41 20L4 18.59l7.72-7.72 1.47 1.35L5.41 20z\"/>\n",
              "  </svg>\n",
              "      </button>\n",
              "      \n",
              "  <style>\n",
              "    .colab-df-container {\n",
              "      display:flex;\n",
              "      flex-wrap:wrap;\n",
              "      gap: 12px;\n",
              "    }\n",
              "\n",
              "    .colab-df-convert {\n",
              "      background-color: #E8F0FE;\n",
              "      border: none;\n",
              "      border-radius: 50%;\n",
              "      cursor: pointer;\n",
              "      display: none;\n",
              "      fill: #1967D2;\n",
              "      height: 32px;\n",
              "      padding: 0 0 0 0;\n",
              "      width: 32px;\n",
              "    }\n",
              "\n",
              "    .colab-df-convert:hover {\n",
              "      background-color: #E2EBFA;\n",
              "      box-shadow: 0px 1px 2px rgba(60, 64, 67, 0.3), 0px 1px 3px 1px rgba(60, 64, 67, 0.15);\n",
              "      fill: #174EA6;\n",
              "    }\n",
              "\n",
              "    [theme=dark] .colab-df-convert {\n",
              "      background-color: #3B4455;\n",
              "      fill: #D2E3FC;\n",
              "    }\n",
              "\n",
              "    [theme=dark] .colab-df-convert:hover {\n",
              "      background-color: #434B5C;\n",
              "      box-shadow: 0px 1px 3px 1px rgba(0, 0, 0, 0.15);\n",
              "      filter: drop-shadow(0px 1px 2px rgba(0, 0, 0, 0.3));\n",
              "      fill: #FFFFFF;\n",
              "    }\n",
              "  </style>\n",
              "\n",
              "      <script>\n",
              "        const buttonEl =\n",
              "          document.querySelector('#df-6c6ccbe8-e70e-4163-8755-a1f8fdb4fdb6 button.colab-df-convert');\n",
              "        buttonEl.style.display =\n",
              "          google.colab.kernel.accessAllowed ? 'block' : 'none';\n",
              "\n",
              "        async function convertToInteractive(key) {\n",
              "          const element = document.querySelector('#df-6c6ccbe8-e70e-4163-8755-a1f8fdb4fdb6');\n",
              "          const dataTable =\n",
              "            await google.colab.kernel.invokeFunction('convertToInteractive',\n",
              "                                                     [key], {});\n",
              "          if (!dataTable) return;\n",
              "\n",
              "          const docLinkHtml = 'Like what you see? Visit the ' +\n",
              "            '<a target=\"_blank\" href=https://colab.research.google.com/notebooks/data_table.ipynb>data table notebook</a>'\n",
              "            + ' to learn more about interactive tables.';\n",
              "          element.innerHTML = '';\n",
              "          dataTable['output_type'] = 'display_data';\n",
              "          await google.colab.output.renderOutput(dataTable, element);\n",
              "          const docLink = document.createElement('div');\n",
              "          docLink.innerHTML = docLinkHtml;\n",
              "          element.appendChild(docLink);\n",
              "        }\n",
              "      </script>\n",
              "    </div>\n",
              "  </div>\n",
              "  "
            ],
            "text/plain": [
              "   Unnamed: 0  Unnamed: 0.1  Unnamed: 0.1.1  \\\n",
              "0           0             0               0   \n",
              "1           1             2               2   \n",
              "2           2             3               3   \n",
              "3           3             4               4   \n",
              "4           4             6               6   \n",
              "\n",
              "                                 date  \\\n",
              "0  14 February 2023\\n14 February 2023   \n",
              "1                          23 January   \n",
              "2                           5 January   \n",
              "3                           5 January   \n",
              "4                    19 December 2022   \n",
              "\n",
              "                                               title  \\\n",
              "0  turkey syria earthquakes send mobile homes aff...   \n",
              "1    gary neville ofcom pursuing complaints comments   \n",
              "2                    drakeford regrets hotel freebie   \n",
              "3      mark drakeford defends taking hospitality way   \n",
              "4  rishi sunak wades gary neville workers rights row   \n",
              "\n",
              "                                        main_content  ID  cluster  \n",
              "0  sending mobile homes used accommodation areas ...   0       -1  \n",
              "1  ofcom pursuing complaints received itv viewers...   2        5  \n",
              "2  mark drakeford says emphasised human rights me...   3        0  \n",
              "3  first minister mark drakeford says choice stay...   4        0  \n",
              "4  audiences want hear gary neville discuss polit...   6        5  "
            ]
          },
          "execution_count": 42,
          "metadata": {},
          "output_type": "execute_result"
        }
      ],
      "source": [
        "bbc_cleaned_data['cluster'] = headline_topics\n",
        "bbc_cleaned_data.head()"
      ]
    },
    {
      "cell_type": "markdown",
      "metadata": {
        "id": "baxf2h4X_D44"
      },
      "source": [
        "#### Sentiment analysis on the following topics:\n",
        "\n",
        "\n",
        "*   gay_rights:\n",
        "    (lgbt_rights_gay_human)\n",
        "*   Rights of migrant workers: (workers_labour_amnesty_migrant_rights_ibhais)\n",
        "*   banning of alochol: (alcohol_minute_sale_ban)\n",
        "\n",
        "\n",
        "\n",
        "\n",
        "\n"
      ]
    },
    {
      "cell_type": "markdown",
      "metadata": {
        "id": "fLaAH10E_8-R"
      },
      "source": [
        "1) gay_rights:\n",
        "    (lgbt_rights_gay_human)"
      ]
    },
    {
      "cell_type": "code",
      "execution_count": null,
      "metadata": {
        "colab": {
          "base_uri": "https://localhost:8080/"
        },
        "id": "D_lDFG5W___v",
        "outputId": "6ef66652-dfbb-4772-e295-6fe8e0b93d17"
      },
      "outputs": [
        {
          "name": "stdout",
          "output_type": "stream",
          "text": [
            "The general sentiment scores of bbc reagrdig the gay rights are: \n",
            " {'positive_mean': 0.15081395348837212, 'negatives_mean': 0.12093023255813952, 'neutral_mean': 0.6914186046511628}\n",
            "The titles sentiment scores of bbc regarding the gay rights are: \n",
            " {'positive_mean': 0.11404651162790698, 'negatives_mean': 0.15527906976744188, 'neutral_mean': 0.7306976744186046} \n"
          ]
        }
      ],
      "source": [
        "bbc_gay_rights = bbc_cleaned_data.loc[bbc_cleaned_data[\"cluster\"]==0]\n",
        "bbc_sentiment_scores_general_dictionary = generate_general_statistical_sentiment_scores(bbc_gay_rights)\n",
        "bbc_sentiment_scores_titles_dictionary = generate_title_statistical_sentiment_scores(bbc_gay_rights)\n",
        "print(\"The general sentiment scores of bbc reagrdig the gay rights are: \\n {}\".format(bbc_sentiment_scores_general_dictionary))\n",
        "print(\"The titles sentiment scores of bbc regarding the gay rights are: \\n {} \".format(bbc_sentiment_scores_titles_dictionary))"
      ]
    },
    {
      "cell_type": "code",
      "execution_count": null,
      "metadata": {
        "id": "xhCqU1Lt9cY-"
      },
      "outputs": [],
      "source": [
        "merged_df = pd.merge(bbc_gay_rights_sentiment_df, bbc_uncleaned_data, on='ID')\n",
        "merged_df.to_csv(\"bbc_subtopic_lgbtq_rights_data.csv\")"
      ]
    },
    {
      "cell_type": "markdown",
      "metadata": {
        "id": "A6lkjureDSSG"
      },
      "source": [
        "2) Rights of migrant workers: (workers_labour_amnesty_migrant_rights_ibhais)"
      ]
    },
    {
      "cell_type": "code",
      "execution_count": null,
      "metadata": {
        "colab": {
          "base_uri": "https://localhost:8080/"
        },
        "id": "aFFbRg70DiL7",
        "outputId": "19b7abc0-49f0-42a8-c34e-847760e40286"
      },
      "outputs": [
        {
          "name": "stdout",
          "output_type": "stream",
          "text": [
            "The general sentiment scores of bbc reagrdig the worker rights are: \n",
            " {'positive_mean': 0.12743749999999998, 'negatives_mean': 0.1255, 'neutral_mean': 0.7080625}\n",
            "The titles sentiment scores of bbc regarding the gay rights are: \n",
            " {'positive_mean': 0.0884375, 'negatives_mean': 0.1411875, 'neutral_mean': 0.770375} \n"
          ]
        }
      ],
      "source": [
        "bbc_worker_rights = bbc_cleaned_data.loc[(bbc_cleaned_data[\"cluster\"]==7)| (bbc_cleaned_data[\"cluster\"]== 9)]\n",
        "bbc_sentiment_scores_general_dictionary = generate_general_statistical_sentiment_scores(bbc_worker_rights)\n",
        "bbc_sentiment_scores_titles_dictionary = generate_title_statistical_sentiment_scores(bbc_worker_rights)\n",
        "print(\"The general sentiment scores of bbc reagrdig the worker rights are: \\n {}\".format(bbc_sentiment_scores_general_dictionary))\n",
        "print(\"The titles sentiment scores of bbc regarding the gay rights are: \\n {} \".format(bbc_sentiment_scores_titles_dictionary))"
      ]
    },
    {
      "cell_type": "code",
      "execution_count": null,
      "metadata": {
        "id": "-ScQAzeNAd3I"
      },
      "outputs": [],
      "source": [
        "merged_df = pd.merge(bbc_worker_rights, bbc_uncleaned_data, on='ID')\n",
        "merged_df.to_csv(\"bbc_subtopic_worker_rights_data.csv\")"
      ]
    },
    {
      "cell_type": "markdown",
      "metadata": {
        "id": "crk3nLMYXjGr"
      },
      "source": [
        "3) Banning of alcohol:(alcohol_minute_sale_ban)"
      ]
    },
    {
      "cell_type": "code",
      "execution_count": null,
      "metadata": {
        "colab": {
          "base_uri": "https://localhost:8080/"
        },
        "id": "YD-zMblXXu-l",
        "outputId": "04990a42-777a-45b3-a2ee-0f5c374571ba"
      },
      "outputs": [
        {
          "name": "stdout",
          "output_type": "stream",
          "text": [
            "The general sentiment scores of bbc reagrdig the ban of alcohol are: \n",
            " {'positive_mean': 0.23775000000000002, 'negatives_mean': 0.13225, 'neutral_mean': 0.67675}\n",
            "The titles sentiment scores of bbc regarding the ban of alcohol are: \n",
            " {'positive_mean': 0.28475, 'negatives_mean': 0.38575000000000004, 'neutral_mean': 0.3295} \n"
          ]
        }
      ],
      "source": [
        "bbc_alcohol_ban = bbc_cleaned_data.loc[bbc_cleaned_data.cluster==17]\n",
        "bbc_sentiment_scores_general_dictionary = generate_general_statistical_sentiment_scores(bbc_alcohol_ban)\n",
        "bbc_sentiment_scores_titles_dictionary = generate_title_statistical_sentiment_scores(bbc_alcohol_ban)\n",
        "print(\"The general sentiment scores of bbc regarding the ban of alcohol are: \\n {}\".format(bbc_sentiment_scores_general_dictionary))\n",
        "print(\"The titles sentiment scores of bbc regarding the ban of alcohol are: \\n {} \".format(bbc_sentiment_scores_titles_dictionary))"
      ]
    },
    {
      "cell_type": "code",
      "execution_count": null,
      "metadata": {
        "id": "lspru34HCeX3"
      },
      "outputs": [],
      "source": [
        "merged_df = pd.merge(bbc_alcohol_ban, bbc_uncleaned_data, on='ID')\n",
        "merged_df.to_csv(\"bbc_subtopic_alcohol_data.csv\")"
      ]
    },
    {
      "cell_type": "markdown",
      "metadata": {
        "id": "xv8kEnwHXGXN"
      },
      "source": [
        "#### 3) Guardian"
      ]
    },
    {
      "cell_type": "code",
      "execution_count": null,
      "metadata": {
        "colab": {
          "base_uri": "https://localhost:8080/",
          "height": 104,
          "referenced_widgets": [
            "3c438cbed9894f54850feb0da018b36e",
            "c6d2621064a44615941642aa99e68dc4",
            "a9bdf08071dd4d9b8163fd0e5fa42bf5",
            "d4d694b259dd4e8cb971731bf3fe2472",
            "c63a8f1b6a034fcb8f5abd006dd192f8",
            "9f5e97b642804a73a8a6f71b5afebe84",
            "f2172cb6d8314698917524e5712f4e70",
            "85ed00a733734c50bf55f1eee9184e4e",
            "079f4d4132774d618f3d6eef1a1c7cda",
            "1b59804f21f441cca4a029edcf738b37",
            "d2eb1c02640444a98089ac3475e05030"
          ]
        },
        "id": "JexXrTh-XKhH",
        "outputId": "a005bbe1-e4a6-4ba5-c555-0b7ab20968fa"
      },
      "outputs": [
        {
          "data": {
            "application/vnd.jupyter.widget-view+json": {
              "model_id": "3c438cbed9894f54850feb0da018b36e",
              "version_major": 2,
              "version_minor": 0
            },
            "text/plain": [
              "Batches:   0%|          | 0/60 [00:00<?, ?it/s]"
            ]
          },
          "metadata": {},
          "output_type": "display_data"
        },
        {
          "name": "stderr",
          "output_type": "stream",
          "text": [
            "2023-03-06 14:12:33,568 - BERTopic - Transformed documents to Embeddings\n",
            "2023-03-06 14:12:53,396 - BERTopic - Reduced dimensionality\n",
            "2023-03-06 14:12:53,475 - BERTopic - Clustered reduced embeddings\n"
          ]
        }
      ],
      "source": [
        "model = BERTopic(verbose=True,embedding_model='paraphrase-MiniLM-L3-v2', min_topic_size= 7)\n",
        "headline_topics, _ = model.fit_transform(guardian_cleaned_data.main_content)"
      ]
    },
    {
      "cell_type": "code",
      "execution_count": null,
      "metadata": {
        "colab": {
          "base_uri": "https://localhost:8080/",
          "height": 1000
        },
        "id": "hZ1iKUUVXXkl",
        "outputId": "99268a59-96ef-424f-e67b-1df7e89481c7"
      },
      "outputs": [
        {
          "name": "stdout",
          "output_type": "stream",
          "text": [
            "Number of topics: 37\n"
          ]
        },
        {
          "data": {
            "text/html": [
              "\n",
              "  <div id=\"df-ea410da8-1aaa-4f14-929b-ac0680800bdc\">\n",
              "    <div class=\"colab-df-container\">\n",
              "      <div>\n",
              "<style scoped>\n",
              "    .dataframe tbody tr th:only-of-type {\n",
              "        vertical-align: middle;\n",
              "    }\n",
              "\n",
              "    .dataframe tbody tr th {\n",
              "        vertical-align: top;\n",
              "    }\n",
              "\n",
              "    .dataframe thead th {\n",
              "        text-align: right;\n",
              "    }\n",
              "</style>\n",
              "<table border=\"1\" class=\"dataframe\">\n",
              "  <thead>\n",
              "    <tr style=\"text-align: right;\">\n",
              "      <th></th>\n",
              "      <th>Topic</th>\n",
              "      <th>Count</th>\n",
              "      <th>Name</th>\n",
              "    </tr>\n",
              "  </thead>\n",
              "  <tbody>\n",
              "    <tr>\n",
              "      <th>0</th>\n",
              "      <td>-1</td>\n",
              "      <td>496</td>\n",
              "      <td>-1_one_min_time_game</td>\n",
              "    </tr>\n",
              "    <tr>\n",
              "      <th>1</th>\n",
              "      <td>0</td>\n",
              "      <td>202</td>\n",
              "      <td>0_england_southgate_kane_back</td>\n",
              "    </tr>\n",
              "    <tr>\n",
              "      <th>2</th>\n",
              "      <td>1</td>\n",
              "      <td>176</td>\n",
              "      <td>1_workers_migrant_labour_rights</td>\n",
              "    </tr>\n",
              "    <tr>\n",
              "      <th>3</th>\n",
              "      <td>2</td>\n",
              "      <td>127</td>\n",
              "      <td>2_blatter_winter_platini_president</td>\n",
              "    </tr>\n",
              "    <tr>\n",
              "      <th>4</th>\n",
              "      <td>3</td>\n",
              "      <td>102</td>\n",
              "      <td>3_committee_garcia_bid_executive</td>\n",
              "    </tr>\n",
              "    <tr>\n",
              "      <th>5</th>\n",
              "      <td>4</td>\n",
              "      <td>82</td>\n",
              "      <td>4_messi_argentina_final_like</td>\n",
              "    </tr>\n",
              "    <tr>\n",
              "      <th>6</th>\n",
              "      <td>5</td>\n",
              "      <td>71</td>\n",
              "      <td>5_al_qatari_doha_workers</td>\n",
              "    </tr>\n",
              "    <tr>\n",
              "      <th>7</th>\n",
              "      <td>6</td>\n",
              "      <td>67</td>\n",
              "      <td>6_germany_japan_spain_game</td>\n",
              "    </tr>\n",
              "    <tr>\n",
              "      <th>8</th>\n",
              "      <td>7</td>\n",
              "      <td>55</td>\n",
              "      <td>7_morocco_moroccan_regragui_ghana</td>\n",
              "    </tr>\n",
              "    <tr>\n",
              "      <th>9</th>\n",
              "      <td>8</td>\n",
              "      <td>44</td>\n",
              "      <td>8_lgbtq_gay_rights_rainbow</td>\n",
              "    </tr>\n",
              "    <tr>\n",
              "      <th>10</th>\n",
              "      <td>9</td>\n",
              "      <td>43</td>\n",
              "      <td>9_france_mbapp_deschamps_giroud</td>\n",
              "    </tr>\n",
              "    <tr>\n",
              "      <th>11</th>\n",
              "      <td>10</td>\n",
              "      <td>35</td>\n",
              "      <td>10_senegal_ecuador_min_netherlands</td>\n",
              "    </tr>\n",
              "    <tr>\n",
              "      <th>12</th>\n",
              "      <td>11</td>\n",
              "      <td>34</td>\n",
              "      <td>11_australia_socceroos_tunisia_denmark</td>\n",
              "    </tr>\n",
              "    <tr>\n",
              "      <th>13</th>\n",
              "      <td>12</td>\n",
              "      <td>30</td>\n",
              "      <td>12_nov_pm_stadium_players</td>\n",
              "    </tr>\n",
              "    <tr>\n",
              "      <th>14</th>\n",
              "      <td>13</td>\n",
              "      <td>27</td>\n",
              "      <td>13_brazil_neymar_tite_richarlison</td>\n",
              "    </tr>\n",
              "    <tr>\n",
              "      <th>15</th>\n",
              "      <td>14</td>\n",
              "      <td>26</td>\n",
              "      <td>14_sport_china_russia_event</td>\n",
              "    </tr>\n",
              "    <tr>\n",
              "      <th>16</th>\n",
              "      <td>15</td>\n",
              "      <td>25</td>\n",
              "      <td>15_ronaldo_portugal_santos_cristiano</td>\n",
              "    </tr>\n",
              "    <tr>\n",
              "      <th>17</th>\n",
              "      <td>16</td>\n",
              "      <td>25</td>\n",
              "      <td>16_infantino_gianni_tournament_rights</td>\n",
              "    </tr>\n",
              "    <tr>\n",
              "      <th>18</th>\n",
              "      <td>17</td>\n",
              "      <td>22</td>\n",
              "      <td>17_armband_wear_armbands_sanctions</td>\n",
              "    </tr>\n",
              "    <tr>\n",
              "      <th>19</th>\n",
              "      <td>18</td>\n",
              "      <td>19</td>\n",
              "      <td>18_min_right_bale_england</td>\n",
              "    </tr>\n",
              "    <tr>\n",
              "      <th>20</th>\n",
              "      <td>19</td>\n",
              "      <td>19</td>\n",
              "      <td>19_iran_iranian_national_people</td>\n",
              "    </tr>\n",
              "    <tr>\n",
              "      <th>21</th>\n",
              "      <td>20</td>\n",
              "      <td>18</td>\n",
              "      <td>20_arnold_australia_socceroos_players</td>\n",
              "    </tr>\n",
              "    <tr>\n",
              "      <th>22</th>\n",
              "      <td>21</td>\n",
              "      <td>16</td>\n",
              "      <td>21_ukraine_scotland_ukrainian_russia</td>\n",
              "    </tr>\n",
              "    <tr>\n",
              "      <th>23</th>\n",
              "      <td>22</td>\n",
              "      <td>15</td>\n",
              "      <td>22_van_gaal_dutch_netherlands</td>\n",
              "    </tr>\n",
              "    <tr>\n",
              "      <th>24</th>\n",
              "      <td>23</td>\n",
              "      <td>15</td>\n",
              "      <td>23_bale_ramsey_page_gareth</td>\n",
              "    </tr>\n",
              "    <tr>\n",
              "      <th>25</th>\n",
              "      <td>24</td>\n",
              "      <td>14</td>\n",
              "      <td>24_canada_herdman_poland_min</td>\n",
              "    </tr>\n",
              "    <tr>\n",
              "      <th>26</th>\n",
              "      <td>25</td>\n",
              "      <td>14</td>\n",
              "      <td>25_berhalter_us_pulisic_adams</td>\n",
              "    </tr>\n",
              "    <tr>\n",
              "      <th>27</th>\n",
              "      <td>26</td>\n",
              "      <td>12</td>\n",
              "      <td>26_scotland_clarke_patterson_austria</td>\n",
              "    </tr>\n",
              "    <tr>\n",
              "      <th>28</th>\n",
              "      <td>27</td>\n",
              "      <td>12</td>\n",
              "      <td>27_rights_human_workers_kit</td>\n",
              "    </tr>\n",
              "    <tr>\n",
              "      <th>29</th>\n",
              "      <td>28</td>\n",
              "      <td>11</td>\n",
              "      <td>28_alcohol_budweiser_beer_fan</td>\n",
              "    </tr>\n",
              "    <tr>\n",
              "      <th>30</th>\n",
              "      <td>29</td>\n",
              "      <td>11</td>\n",
              "      <td>29_like_one_feel_beyond</td>\n",
              "    </tr>\n",
              "    <tr>\n",
              "      <th>31</th>\n",
              "      <td>30</td>\n",
              "      <td>10</td>\n",
              "      <td>30_swiss_investigation_garcia_evidence</td>\n",
              "    </tr>\n",
              "    <tr>\n",
              "      <th>32</th>\n",
              "      <td>31</td>\n",
              "      <td>10</td>\n",
              "      <td>31_costa_rica_peru_mexico</td>\n",
              "    </tr>\n",
              "    <tr>\n",
              "      <th>33</th>\n",
              "      <td>32</td>\n",
              "      <td>9</td>\n",
              "      <td>32_group_belgium_germany_ireland</td>\n",
              "    </tr>\n",
              "    <tr>\n",
              "      <th>34</th>\n",
              "      <td>33</td>\n",
              "      <td>8</td>\n",
              "      <td>33_mbapp_silva_australia_socceroos</td>\n",
              "    </tr>\n",
              "    <tr>\n",
              "      <th>35</th>\n",
              "      <td>34</td>\n",
              "      <td>8</td>\n",
              "      <td>34_ireland_portugal_goal_offs</td>\n",
              "    </tr>\n",
              "    <tr>\n",
              "      <th>36</th>\n",
              "      <td>35</td>\n",
              "      <td>7</td>\n",
              "      <td>35_iran_queiroz_iranian_usa</td>\n",
              "    </tr>\n",
              "  </tbody>\n",
              "</table>\n",
              "</div>\n",
              "      <button class=\"colab-df-convert\" onclick=\"convertToInteractive('df-ea410da8-1aaa-4f14-929b-ac0680800bdc')\"\n",
              "              title=\"Convert this dataframe to an interactive table.\"\n",
              "              style=\"display:none;\">\n",
              "        \n",
              "  <svg xmlns=\"http://www.w3.org/2000/svg\" height=\"24px\"viewBox=\"0 0 24 24\"\n",
              "       width=\"24px\">\n",
              "    <path d=\"M0 0h24v24H0V0z\" fill=\"none\"/>\n",
              "    <path d=\"M18.56 5.44l.94 2.06.94-2.06 2.06-.94-2.06-.94-.94-2.06-.94 2.06-2.06.94zm-11 1L8.5 8.5l.94-2.06 2.06-.94-2.06-.94L8.5 2.5l-.94 2.06-2.06.94zm10 10l.94 2.06.94-2.06 2.06-.94-2.06-.94-.94-2.06-.94 2.06-2.06.94z\"/><path d=\"M17.41 7.96l-1.37-1.37c-.4-.4-.92-.59-1.43-.59-.52 0-1.04.2-1.43.59L10.3 9.45l-7.72 7.72c-.78.78-.78 2.05 0 2.83L4 21.41c.39.39.9.59 1.41.59.51 0 1.02-.2 1.41-.59l7.78-7.78 2.81-2.81c.8-.78.8-2.07 0-2.86zM5.41 20L4 18.59l7.72-7.72 1.47 1.35L5.41 20z\"/>\n",
              "  </svg>\n",
              "      </button>\n",
              "      \n",
              "  <style>\n",
              "    .colab-df-container {\n",
              "      display:flex;\n",
              "      flex-wrap:wrap;\n",
              "      gap: 12px;\n",
              "    }\n",
              "\n",
              "    .colab-df-convert {\n",
              "      background-color: #E8F0FE;\n",
              "      border: none;\n",
              "      border-radius: 50%;\n",
              "      cursor: pointer;\n",
              "      display: none;\n",
              "      fill: #1967D2;\n",
              "      height: 32px;\n",
              "      padding: 0 0 0 0;\n",
              "      width: 32px;\n",
              "    }\n",
              "\n",
              "    .colab-df-convert:hover {\n",
              "      background-color: #E2EBFA;\n",
              "      box-shadow: 0px 1px 2px rgba(60, 64, 67, 0.3), 0px 1px 3px 1px rgba(60, 64, 67, 0.15);\n",
              "      fill: #174EA6;\n",
              "    }\n",
              "\n",
              "    [theme=dark] .colab-df-convert {\n",
              "      background-color: #3B4455;\n",
              "      fill: #D2E3FC;\n",
              "    }\n",
              "\n",
              "    [theme=dark] .colab-df-convert:hover {\n",
              "      background-color: #434B5C;\n",
              "      box-shadow: 0px 1px 3px 1px rgba(0, 0, 0, 0.15);\n",
              "      filter: drop-shadow(0px 1px 2px rgba(0, 0, 0, 0.3));\n",
              "      fill: #FFFFFF;\n",
              "    }\n",
              "  </style>\n",
              "\n",
              "      <script>\n",
              "        const buttonEl =\n",
              "          document.querySelector('#df-ea410da8-1aaa-4f14-929b-ac0680800bdc button.colab-df-convert');\n",
              "        buttonEl.style.display =\n",
              "          google.colab.kernel.accessAllowed ? 'block' : 'none';\n",
              "\n",
              "        async function convertToInteractive(key) {\n",
              "          const element = document.querySelector('#df-ea410da8-1aaa-4f14-929b-ac0680800bdc');\n",
              "          const dataTable =\n",
              "            await google.colab.kernel.invokeFunction('convertToInteractive',\n",
              "                                                     [key], {});\n",
              "          if (!dataTable) return;\n",
              "\n",
              "          const docLinkHtml = 'Like what you see? Visit the ' +\n",
              "            '<a target=\"_blank\" href=https://colab.research.google.com/notebooks/data_table.ipynb>data table notebook</a>'\n",
              "            + ' to learn more about interactive tables.';\n",
              "          element.innerHTML = '';\n",
              "          dataTable['output_type'] = 'display_data';\n",
              "          await google.colab.output.renderOutput(dataTable, element);\n",
              "          const docLink = document.createElement('div');\n",
              "          docLink.innerHTML = docLinkHtml;\n",
              "          element.appendChild(docLink);\n",
              "        }\n",
              "      </script>\n",
              "    </div>\n",
              "  </div>\n",
              "  "
            ],
            "text/plain": [
              "    Topic  Count                                    Name\n",
              "0      -1    496                    -1_one_min_time_game\n",
              "1       0    202           0_england_southgate_kane_back\n",
              "2       1    176         1_workers_migrant_labour_rights\n",
              "3       2    127      2_blatter_winter_platini_president\n",
              "4       3    102        3_committee_garcia_bid_executive\n",
              "5       4     82            4_messi_argentina_final_like\n",
              "6       5     71                5_al_qatari_doha_workers\n",
              "7       6     67              6_germany_japan_spain_game\n",
              "8       7     55       7_morocco_moroccan_regragui_ghana\n",
              "9       8     44              8_lgbtq_gay_rights_rainbow\n",
              "10      9     43         9_france_mbapp_deschamps_giroud\n",
              "11     10     35      10_senegal_ecuador_min_netherlands\n",
              "12     11     34  11_australia_socceroos_tunisia_denmark\n",
              "13     12     30               12_nov_pm_stadium_players\n",
              "14     13     27       13_brazil_neymar_tite_richarlison\n",
              "15     14     26             14_sport_china_russia_event\n",
              "16     15     25    15_ronaldo_portugal_santos_cristiano\n",
              "17     16     25   16_infantino_gianni_tournament_rights\n",
              "18     17     22      17_armband_wear_armbands_sanctions\n",
              "19     18     19               18_min_right_bale_england\n",
              "20     19     19         19_iran_iranian_national_people\n",
              "21     20     18   20_arnold_australia_socceroos_players\n",
              "22     21     16    21_ukraine_scotland_ukrainian_russia\n",
              "23     22     15           22_van_gaal_dutch_netherlands\n",
              "24     23     15              23_bale_ramsey_page_gareth\n",
              "25     24     14            24_canada_herdman_poland_min\n",
              "26     25     14           25_berhalter_us_pulisic_adams\n",
              "27     26     12    26_scotland_clarke_patterson_austria\n",
              "28     27     12             27_rights_human_workers_kit\n",
              "29     28     11           28_alcohol_budweiser_beer_fan\n",
              "30     29     11                 29_like_one_feel_beyond\n",
              "31     30     10  30_swiss_investigation_garcia_evidence\n",
              "32     31     10               31_costa_rica_peru_mexico\n",
              "33     32      9        32_group_belgium_germany_ireland\n",
              "34     33      8      33_mbapp_silva_australia_socceroos\n",
              "35     34      8           34_ireland_portugal_goal_offs\n",
              "36     35      7             35_iran_queiroz_iranian_usa"
            ]
          },
          "execution_count": 6,
          "metadata": {},
          "output_type": "execute_result"
        }
      ],
      "source": [
        "freq = model.get_topic_info()\n",
        "print(\"Number of topics: {}\".format( len(freq)))\n",
        "freq.head(45)"
      ]
    },
    {
      "cell_type": "markdown",
      "metadata": {
        "id": "nfDHc4IRGEiA"
      },
      "source": [
        "#### Sentiment analysis on the following topics:\n",
        "\n",
        "\n",
        "*   gay_rights:\n",
        "    (lgbtq_gay_rights_rainbow)\n",
        "*   Rights of migrant workers: (workers_migrant_labour_rights_qatari_doha_human_kit)\n",
        "*   banning of alochol: (alcohol_budweiser_beer_fan)\n",
        "*   corruption allegations: (committee_garcia_bid_executive_swiss_investigation_garcia_evidence)\n",
        "* armband: (armband_wear_armbands_sanctions)"
      ]
    },
    {
      "cell_type": "markdown",
      "metadata": {
        "id": "Gl2600qvGIms"
      },
      "source": [
        "1) Rights of migrant workers: (workers_migrant_labour_rights_qatari_doha_human_kit)"
      ]
    },
    {
      "cell_type": "code",
      "execution_count": null,
      "metadata": {
        "id": "s_VbrPnNZBBw"
      },
      "outputs": [],
      "source": [
        "guardian_cleaned_data['cluster'] = headline_topics"
      ]
    },
    {
      "cell_type": "code",
      "execution_count": null,
      "metadata": {
        "colab": {
          "base_uri": "https://localhost:8080/"
        },
        "id": "AweOWMGt4QxU",
        "outputId": "64237ecd-3db8-4e44-bdd3-711788ea2fde"
      },
      "outputs": [
        {
          "name": "stdout",
          "output_type": "stream",
          "text": [
            "The general sentiment scores of the guardian reagrdig the worker rights are: \n",
            " {'positive_mean': 0.12814671814671813, 'negatives_mean': 0.12846332046332049, 'neutral_mean': 0.7207258687258687}\n",
            "The titles sentiment scores of the guardian regarding the worker rights are: \n",
            " {'positive_mean': 0.10547104247104247, 'negatives_mean': 0.21384942084942085, 'neutral_mean': 0.6652355212355212} \n"
          ]
        }
      ],
      "source": [
        "guardian_worker_rights = guardian_cleaned_data.loc[(guardian_cleaned_data.cluster== 1) | (guardian_cleaned_data.cluster== 5 ) | (guardian_cleaned_data.cluster== 27)]\n",
        "guardian_sentiment_scores_general_dictionary = generate_general_statistical_sentiment_scores(guardian_worker_rights)\n",
        "guardian_sentiment_scores_titles_dictionary = generate_title_statistical_sentiment_scores(guardian_worker_rights)\n",
        "print(\"The general sentiment scores of the guardian reagrdig the worker rights are: \\n {}\".format(guardian_sentiment_scores_general_dictionary))\n",
        "print(\"The titles sentiment scores of the guardian regarding the worker rights are: \\n {} \".format(guardian_sentiment_scores_titles_dictionary))\n",
        "guardian_worker_rights_sentiment_df.to_csv(\"guardian_worker_rights.csv\")"
      ]
    },
    {
      "cell_type": "code",
      "execution_count": null,
      "metadata": {
        "id": "h6MbglGvPn5k"
      },
      "outputs": [],
      "source": [
        "merged_df = pd.merge(guardian_worker_rights, guardian_uncleaned_data, on='url')\n",
        "merged_df.to_csv(\"guardian_subtopic_worker_rights_data.csv\")"
      ]
    },
    {
      "cell_type": "markdown",
      "metadata": {
        "id": "vQFtbAmzGSzT"
      },
      "source": [
        "2) Rights of gay people:(lgbtq_gay_rights_rainbow)"
      ]
    },
    {
      "cell_type": "code",
      "execution_count": null,
      "metadata": {
        "colab": {
          "base_uri": "https://localhost:8080/"
        },
        "id": "MKyykvtiYjTI",
        "outputId": "23620af6-8eaa-4681-b59e-f29a9ae47bac"
      },
      "outputs": [
        {
          "name": "stdout",
          "output_type": "stream",
          "text": [
            "The general sentiment scores of the guardian reagrdig the gay rights are: \n",
            " {'positive_mean': 0.1671818181818182, 'negatives_mean': 0.11465909090909089, 'neutral_mean': 0.6890681818181819}\n",
            "The titles sentiment scores of the guardian regarding the gay rights are: \n",
            " {'positive_mean': 0.13811363636363636, 'negatives_mean': 0.1657045454545454, 'neutral_mean': 0.6961818181818181} \n"
          ]
        }
      ],
      "source": [
        "guardian_gay_rights = guardian_cleaned_data.loc[guardian_cleaned_data[\"cluster\"]==8]\n",
        "guardian_sentiment_scores_general_dictionary = generate_general_statistical_sentiment_scores(guardian_gay_rights)\n",
        "guardian_sentiment_scores_titles_dictionary = generate_title_statistical_sentiment_scores(guardian_gay_rights)\n",
        "guardian_gay_rights_sentiment_df.to_csv(\"guardian_gay_rights.csv\")\n",
        "print(\"The general sentiment scores of the guardian reagrdig the gay rights are: \\n {}\".format(guardian_sentiment_scores_general_dictionary))\n",
        "print(\"The titles sentiment scores of the guardian regarding the gay rights are: \\n {} \".format(guardian_sentiment_scores_titles_dictionary))"
      ]
    },
    {
      "cell_type": "code",
      "execution_count": null,
      "metadata": {
        "id": "ciewD-7DaSMp"
      },
      "outputs": [],
      "source": [
        "merged_df = pd.merge(guardian_gay_rights, guardian_uncleaned_data, on='url')\n",
        "merged_df.to_csv(\"guardian_subtopic_gay_rights_data.csv\")"
      ]
    },
    {
      "cell_type": "markdown",
      "metadata": {
        "id": "q2xz6FG3e8pp"
      },
      "source": [
        "Banning of alcohol:(alcohol_budweiser_beer_fan)"
      ]
    },
    {
      "cell_type": "code",
      "execution_count": null,
      "metadata": {
        "colab": {
          "base_uri": "https://localhost:8080/"
        },
        "id": "dtLdeWPhfCIs",
        "outputId": "ebfb523d-c31c-4a4a-f357-18de191aea73"
      },
      "outputs": [
        {
          "name": "stdout",
          "output_type": "stream",
          "text": [
            "The general sentiment scores of the guardian reagrdig the ban of alcohol are: \n",
            " {'positive_mean': 0.17827272727272728, 'negatives_mean': 0.08609090909090909, 'neutral_mean': 0.7158181818181818}\n",
            "The titles sentiment scores of the guardian regarding ban of alcohol are: \n",
            " {'positive_mean': 0.1588181818181818, 'negatives_mean': 0.217, 'neutral_mean': 0.6241818181818182} \n"
          ]
        }
      ],
      "source": [
        "guardian_alcohol_ban = guardian_cleaned_data.loc[guardian_cleaned_data[\"cluster\"]==28]\n",
        "guardian_sentiment_scores_general_dictionary = generate_general_statistical_sentiment_scores(guardian_alcohol_ban)\n",
        "guardian_sentiment_scores_titles_dictionary = generate_title_statistical_sentiment_scores(guardian_alcohol_ban)\n",
        "#guardian_gay_rights.to_csv(\"guardian_gay_rights.csv\")\n",
        "print(\"The general sentiment scores of the guardian reagrdig the ban of alcohol are: \\n {}\".format(guardian_sentiment_scores_general_dictionary))\n",
        "print(\"The titles sentiment scores of the guardian regarding ban of alcohol are: \\n {} \".format(guardian_sentiment_scores_titles_dictionary))"
      ]
    },
    {
      "cell_type": "code",
      "execution_count": null,
      "metadata": {
        "id": "K1fATbVffoIS"
      },
      "outputs": [],
      "source": [
        "merged_df = pd.merge(guardian_alcohol_ban_sentiment_df, guardian_uncleaned_data, on='url')\n",
        "merged_df.to_csv(\"guardian_alcohol_ban_new.csv\")"
      ]
    },
    {
      "cell_type": "markdown",
      "metadata": {
        "id": "qW08XOyRhO2e"
      },
      "source": [
        "committee_garcia_bid_executive:"
      ]
    },
    {
      "cell_type": "code",
      "execution_count": null,
      "metadata": {
        "colab": {
          "base_uri": "https://localhost:8080/"
        },
        "id": "EXCvY7mhhRDb",
        "outputId": "06ebaf91-4db5-4b30-a6b7-c8e530a173de"
      },
      "outputs": [
        {
          "name": "stdout",
          "output_type": "stream",
          "text": [
            "The general sentiment scores of the guardian reagrdig the bid allegations are: \n",
            " {'positive_mean': 0.10184374999999998, 'negatives_mean': 0.09875892857142857, 'neutral_mean': 0.7816964285714286}\n",
            "The titles sentiment scores of the guardian regarding bid allegations are: \n",
            " {'positive_mean': 0.08416964285714286, 'negatives_mean': 0.15141964285714285, 'neutral_mean': 0.7644196428571428} \n"
          ]
        }
      ],
      "source": [
        "guardian_bid_allegations = guardian_cleaned_data.loc[(guardian_cleaned_data[\"cluster\"]==3) |  (guardian_cleaned_data[\"cluster\"]==30)]\n",
        "guardian_sentiment_scores_general_dictionary = generate_general_statistical_sentiment_scores(guardian_bid_allegations)\n",
        "guardian_sentiment_scores_titles_dictionary = generate_title_statistical_sentiment_scores(guardian_bid_allegations)\n",
        "#guardian_gay_rights.to_csv(\"guardian_gay_rights.csv\")\n",
        "print(\"The general sentiment scores of the guardian reagrdig the bid allegations are: \\n {}\".format(guardian_sentiment_scores_general_dictionary))\n",
        "print(\"The titles sentiment scores of the guardian regarding bid allegations are: \\n {} \".format(guardian_sentiment_scores_titles_dictionary))"
      ]
    },
    {
      "cell_type": "code",
      "execution_count": null,
      "metadata": {
        "id": "uxNpcg1Qhokm"
      },
      "outputs": [],
      "source": [
        "merged_df = pd.merge(guardian_bid_allegations, guardian_uncleaned_data, on='url')\n",
        "merged_df.to_csv(\"guardian_bid_allegations_very_new.csv\")"
      ]
    },
    {
      "cell_type": "markdown",
      "metadata": {
        "id": "ShJq8K-wpip7"
      },
      "source": [
        "armband_wear_armbands_sanctions"
      ]
    },
    {
      "cell_type": "code",
      "execution_count": null,
      "metadata": {
        "colab": {
          "base_uri": "https://localhost:8080/"
        },
        "id": "2BzWikcIptfp",
        "outputId": "0b19dc9d-bf34-4200-8216-9bf7d0463ba9"
      },
      "outputs": [
        {
          "name": "stdout",
          "output_type": "stream",
          "text": [
            "The general sentiment scores of the guardian reagrdig the wear of the arm band are: \n",
            " {'positive_mean': 0.13549999999999998, 'negatives_mean': 0.11340909090909092, 'neutral_mean': 0.7151363636363637}\n",
            "The titles sentiment scores of the guardian regarding the wear of the arm band are: \n",
            " {'positive_mean': 0.0995, 'negatives_mean': 0.26886363636363636, 'neutral_mean': 0.6316363636363637} \n"
          ]
        }
      ],
      "source": [
        "guardian_arm_band = guardian_cleaned_data.loc[guardian_cleaned_data[\"cluster\"]==17]\n",
        "guardian_sentiment_df = generate_sentiment_scores(guardian_arm_band)\n",
        "guardian_sentiment_scores_general_dictionary = generate_general_statistical_sentiment_scores(guardian_sentiment_df)\n",
        "guardian_sentiment_scores_titles_dictionary = generate_title_statistical_sentiment_scores(guardian_sentiment_df)\n",
        "#guardian_gay_rights.to_csv(\"guardian_gay_rights.csv\")\n",
        "print(\"The general sentiment scores of the guardian reagrdig the wear of the arm band are: \\n {}\".format(guardian_sentiment_scores_general_dictionary))\n",
        "print(\"The titles sentiment scores of the guardian regarding the wear of the arm band are: \\n {} \".format(guardian_sentiment_scores_titles_dictionary))"
      ]
    },
    {
      "cell_type": "code",
      "execution_count": null,
      "metadata": {
        "id": "wgX5wkRhqiQa"
      },
      "outputs": [],
      "source": [
        "merged_df = pd.merge(guardian_arm_band, guardian_uncleaned_data, on='url')\n",
        "merged_df.to_csv(\"guardian_arm_band_new.csv\")"
      ]
    }
  ],
  "metadata": {
    "colab": {
      "provenance": []
    },
    "kernelspec": {
      "display_name": "Python 3",
      "name": "python3"
    },
    "language_info": {
      "name": "python"
    },
    "widgets": {
      "application/vnd.jupyter.widget-state+json": {
        "0669601b17ef4aa782e8394dcb429f99": {
          "model_module": "@jupyter-widgets/base",
          "model_module_version": "1.2.0",
          "model_name": "LayoutModel",
          "state": {
            "_model_module": "@jupyter-widgets/base",
            "_model_module_version": "1.2.0",
            "_model_name": "LayoutModel",
            "_view_count": null,
            "_view_module": "@jupyter-widgets/base",
            "_view_module_version": "1.2.0",
            "_view_name": "LayoutView",
            "align_content": null,
            "align_items": null,
            "align_self": null,
            "border": null,
            "bottom": null,
            "display": null,
            "flex": null,
            "flex_flow": null,
            "grid_area": null,
            "grid_auto_columns": null,
            "grid_auto_flow": null,
            "grid_auto_rows": null,
            "grid_column": null,
            "grid_gap": null,
            "grid_row": null,
            "grid_template_areas": null,
            "grid_template_columns": null,
            "grid_template_rows": null,
            "height": null,
            "justify_content": null,
            "justify_items": null,
            "left": null,
            "margin": null,
            "max_height": null,
            "max_width": null,
            "min_height": null,
            "min_width": null,
            "object_fit": null,
            "object_position": null,
            "order": null,
            "overflow": null,
            "overflow_x": null,
            "overflow_y": null,
            "padding": null,
            "right": null,
            "top": null,
            "visibility": null,
            "width": null
          }
        },
        "079f4d4132774d618f3d6eef1a1c7cda": {
          "model_module": "@jupyter-widgets/controls",
          "model_module_version": "1.5.0",
          "model_name": "ProgressStyleModel",
          "state": {
            "_model_module": "@jupyter-widgets/controls",
            "_model_module_version": "1.5.0",
            "_model_name": "ProgressStyleModel",
            "_view_count": null,
            "_view_module": "@jupyter-widgets/base",
            "_view_module_version": "1.2.0",
            "_view_name": "StyleView",
            "bar_color": null,
            "description_width": ""
          }
        },
        "157a319bb3f54ec893fc294ceed8cd49": {
          "model_module": "@jupyter-widgets/controls",
          "model_module_version": "1.5.0",
          "model_name": "FloatProgressModel",
          "state": {
            "_dom_classes": [],
            "_model_module": "@jupyter-widgets/controls",
            "_model_module_version": "1.5.0",
            "_model_name": "FloatProgressModel",
            "_view_count": null,
            "_view_module": "@jupyter-widgets/controls",
            "_view_module_version": "1.5.0",
            "_view_name": "ProgressView",
            "bar_style": "success",
            "description": "",
            "description_tooltip": null,
            "layout": "IPY_MODEL_394a8f7b417c4c83bdeb4b177227ae0e",
            "max": 8,
            "min": 0,
            "orientation": "horizontal",
            "style": "IPY_MODEL_cfc66ce0c2bf433fbbf1cfc430e33918",
            "value": 8
          }
        },
        "16423d4ff55649379f34366f5ea9054b": {
          "model_module": "@jupyter-widgets/controls",
          "model_module_version": "1.5.0",
          "model_name": "FloatProgressModel",
          "state": {
            "_dom_classes": [],
            "_model_module": "@jupyter-widgets/controls",
            "_model_module_version": "1.5.0",
            "_model_name": "FloatProgressModel",
            "_view_count": null,
            "_view_module": "@jupyter-widgets/controls",
            "_view_module_version": "1.5.0",
            "_view_name": "ProgressView",
            "bar_style": "success",
            "description": "",
            "description_tooltip": null,
            "layout": "IPY_MODEL_a61ea2867f7a4819bd754cb3709c1f91",
            "max": 26,
            "min": 0,
            "orientation": "horizontal",
            "style": "IPY_MODEL_df20bf968a8843009bc3efb5c7d27305",
            "value": 26
          }
        },
        "16b3e32a75ea420f8a428e8c4110f395": {
          "model_module": "@jupyter-widgets/controls",
          "model_module_version": "1.5.0",
          "model_name": "DescriptionStyleModel",
          "state": {
            "_model_module": "@jupyter-widgets/controls",
            "_model_module_version": "1.5.0",
            "_model_name": "DescriptionStyleModel",
            "_view_count": null,
            "_view_module": "@jupyter-widgets/base",
            "_view_module_version": "1.2.0",
            "_view_name": "StyleView",
            "description_width": ""
          }
        },
        "1b59804f21f441cca4a029edcf738b37": {
          "model_module": "@jupyter-widgets/base",
          "model_module_version": "1.2.0",
          "model_name": "LayoutModel",
          "state": {
            "_model_module": "@jupyter-widgets/base",
            "_model_module_version": "1.2.0",
            "_model_name": "LayoutModel",
            "_view_count": null,
            "_view_module": "@jupyter-widgets/base",
            "_view_module_version": "1.2.0",
            "_view_name": "LayoutView",
            "align_content": null,
            "align_items": null,
            "align_self": null,
            "border": null,
            "bottom": null,
            "display": null,
            "flex": null,
            "flex_flow": null,
            "grid_area": null,
            "grid_auto_columns": null,
            "grid_auto_flow": null,
            "grid_auto_rows": null,
            "grid_column": null,
            "grid_gap": null,
            "grid_row": null,
            "grid_template_areas": null,
            "grid_template_columns": null,
            "grid_template_rows": null,
            "height": null,
            "justify_content": null,
            "justify_items": null,
            "left": null,
            "margin": null,
            "max_height": null,
            "max_width": null,
            "min_height": null,
            "min_width": null,
            "object_fit": null,
            "object_position": null,
            "order": null,
            "overflow": null,
            "overflow_x": null,
            "overflow_y": null,
            "padding": null,
            "right": null,
            "top": null,
            "visibility": null,
            "width": null
          }
        },
        "25e8c442e9494ef189573cdf42ada30c": {
          "model_module": "@jupyter-widgets/controls",
          "model_module_version": "1.5.0",
          "model_name": "HTMLModel",
          "state": {
            "_dom_classes": [],
            "_model_module": "@jupyter-widgets/controls",
            "_model_module_version": "1.5.0",
            "_model_name": "HTMLModel",
            "_view_count": null,
            "_view_module": "@jupyter-widgets/controls",
            "_view_module_version": "1.5.0",
            "_view_name": "HTMLView",
            "description": "",
            "description_tooltip": null,
            "layout": "IPY_MODEL_d7d82e9edd0b4331a14f1ef85cbd9183",
            "placeholder": "​",
            "style": "IPY_MODEL_75c0b5372a85494794c485819e4fec1b",
            "value": "Batches: 100%"
          }
        },
        "394a8f7b417c4c83bdeb4b177227ae0e": {
          "model_module": "@jupyter-widgets/base",
          "model_module_version": "1.2.0",
          "model_name": "LayoutModel",
          "state": {
            "_model_module": "@jupyter-widgets/base",
            "_model_module_version": "1.2.0",
            "_model_name": "LayoutModel",
            "_view_count": null,
            "_view_module": "@jupyter-widgets/base",
            "_view_module_version": "1.2.0",
            "_view_name": "LayoutView",
            "align_content": null,
            "align_items": null,
            "align_self": null,
            "border": null,
            "bottom": null,
            "display": null,
            "flex": null,
            "flex_flow": null,
            "grid_area": null,
            "grid_auto_columns": null,
            "grid_auto_flow": null,
            "grid_auto_rows": null,
            "grid_column": null,
            "grid_gap": null,
            "grid_row": null,
            "grid_template_areas": null,
            "grid_template_columns": null,
            "grid_template_rows": null,
            "height": null,
            "justify_content": null,
            "justify_items": null,
            "left": null,
            "margin": null,
            "max_height": null,
            "max_width": null,
            "min_height": null,
            "min_width": null,
            "object_fit": null,
            "object_position": null,
            "order": null,
            "overflow": null,
            "overflow_x": null,
            "overflow_y": null,
            "padding": null,
            "right": null,
            "top": null,
            "visibility": null,
            "width": null
          }
        },
        "3c438cbed9894f54850feb0da018b36e": {
          "model_module": "@jupyter-widgets/controls",
          "model_module_version": "1.5.0",
          "model_name": "HBoxModel",
          "state": {
            "_dom_classes": [],
            "_model_module": "@jupyter-widgets/controls",
            "_model_module_version": "1.5.0",
            "_model_name": "HBoxModel",
            "_view_count": null,
            "_view_module": "@jupyter-widgets/controls",
            "_view_module_version": "1.5.0",
            "_view_name": "HBoxView",
            "box_style": "",
            "children": [
              "IPY_MODEL_c6d2621064a44615941642aa99e68dc4",
              "IPY_MODEL_a9bdf08071dd4d9b8163fd0e5fa42bf5",
              "IPY_MODEL_d4d694b259dd4e8cb971731bf3fe2472"
            ],
            "layout": "IPY_MODEL_c63a8f1b6a034fcb8f5abd006dd192f8"
          }
        },
        "4b45a0e0d00b41ad99cfbff960b667ea": {
          "model_module": "@jupyter-widgets/base",
          "model_module_version": "1.2.0",
          "model_name": "LayoutModel",
          "state": {
            "_model_module": "@jupyter-widgets/base",
            "_model_module_version": "1.2.0",
            "_model_name": "LayoutModel",
            "_view_count": null,
            "_view_module": "@jupyter-widgets/base",
            "_view_module_version": "1.2.0",
            "_view_name": "LayoutView",
            "align_content": null,
            "align_items": null,
            "align_self": null,
            "border": null,
            "bottom": null,
            "display": null,
            "flex": null,
            "flex_flow": null,
            "grid_area": null,
            "grid_auto_columns": null,
            "grid_auto_flow": null,
            "grid_auto_rows": null,
            "grid_column": null,
            "grid_gap": null,
            "grid_row": null,
            "grid_template_areas": null,
            "grid_template_columns": null,
            "grid_template_rows": null,
            "height": null,
            "justify_content": null,
            "justify_items": null,
            "left": null,
            "margin": null,
            "max_height": null,
            "max_width": null,
            "min_height": null,
            "min_width": null,
            "object_fit": null,
            "object_position": null,
            "order": null,
            "overflow": null,
            "overflow_x": null,
            "overflow_y": null,
            "padding": null,
            "right": null,
            "top": null,
            "visibility": null,
            "width": null
          }
        },
        "4e723f7e5f7b48f583c725bd97e664ca": {
          "model_module": "@jupyter-widgets/controls",
          "model_module_version": "1.5.0",
          "model_name": "HBoxModel",
          "state": {
            "_dom_classes": [],
            "_model_module": "@jupyter-widgets/controls",
            "_model_module_version": "1.5.0",
            "_model_name": "HBoxModel",
            "_view_count": null,
            "_view_module": "@jupyter-widgets/controls",
            "_view_module_version": "1.5.0",
            "_view_name": "HBoxView",
            "box_style": "",
            "children": [
              "IPY_MODEL_e09dc45e8bc24dc8a24b91590b822aca",
              "IPY_MODEL_16423d4ff55649379f34366f5ea9054b",
              "IPY_MODEL_b70a1e1d6ba047c38cd24f694869d5a3"
            ],
            "layout": "IPY_MODEL_0669601b17ef4aa782e8394dcb429f99"
          }
        },
        "75c0b5372a85494794c485819e4fec1b": {
          "model_module": "@jupyter-widgets/controls",
          "model_module_version": "1.5.0",
          "model_name": "DescriptionStyleModel",
          "state": {
            "_model_module": "@jupyter-widgets/controls",
            "_model_module_version": "1.5.0",
            "_model_name": "DescriptionStyleModel",
            "_view_count": null,
            "_view_module": "@jupyter-widgets/base",
            "_view_module_version": "1.2.0",
            "_view_name": "StyleView",
            "description_width": ""
          }
        },
        "84d0b1f83d8a428c8759c9f7f0a64f97": {
          "model_module": "@jupyter-widgets/base",
          "model_module_version": "1.2.0",
          "model_name": "LayoutModel",
          "state": {
            "_model_module": "@jupyter-widgets/base",
            "_model_module_version": "1.2.0",
            "_model_name": "LayoutModel",
            "_view_count": null,
            "_view_module": "@jupyter-widgets/base",
            "_view_module_version": "1.2.0",
            "_view_name": "LayoutView",
            "align_content": null,
            "align_items": null,
            "align_self": null,
            "border": null,
            "bottom": null,
            "display": null,
            "flex": null,
            "flex_flow": null,
            "grid_area": null,
            "grid_auto_columns": null,
            "grid_auto_flow": null,
            "grid_auto_rows": null,
            "grid_column": null,
            "grid_gap": null,
            "grid_row": null,
            "grid_template_areas": null,
            "grid_template_columns": null,
            "grid_template_rows": null,
            "height": null,
            "justify_content": null,
            "justify_items": null,
            "left": null,
            "margin": null,
            "max_height": null,
            "max_width": null,
            "min_height": null,
            "min_width": null,
            "object_fit": null,
            "object_position": null,
            "order": null,
            "overflow": null,
            "overflow_x": null,
            "overflow_y": null,
            "padding": null,
            "right": null,
            "top": null,
            "visibility": null,
            "width": null
          }
        },
        "85ed00a733734c50bf55f1eee9184e4e": {
          "model_module": "@jupyter-widgets/base",
          "model_module_version": "1.2.0",
          "model_name": "LayoutModel",
          "state": {
            "_model_module": "@jupyter-widgets/base",
            "_model_module_version": "1.2.0",
            "_model_name": "LayoutModel",
            "_view_count": null,
            "_view_module": "@jupyter-widgets/base",
            "_view_module_version": "1.2.0",
            "_view_name": "LayoutView",
            "align_content": null,
            "align_items": null,
            "align_self": null,
            "border": null,
            "bottom": null,
            "display": null,
            "flex": null,
            "flex_flow": null,
            "grid_area": null,
            "grid_auto_columns": null,
            "grid_auto_flow": null,
            "grid_auto_rows": null,
            "grid_column": null,
            "grid_gap": null,
            "grid_row": null,
            "grid_template_areas": null,
            "grid_template_columns": null,
            "grid_template_rows": null,
            "height": null,
            "justify_content": null,
            "justify_items": null,
            "left": null,
            "margin": null,
            "max_height": null,
            "max_width": null,
            "min_height": null,
            "min_width": null,
            "object_fit": null,
            "object_position": null,
            "order": null,
            "overflow": null,
            "overflow_x": null,
            "overflow_y": null,
            "padding": null,
            "right": null,
            "top": null,
            "visibility": null,
            "width": null
          }
        },
        "87d7f389c99441879b0a88ac50a99e36": {
          "model_module": "@jupyter-widgets/controls",
          "model_module_version": "1.5.0",
          "model_name": "HTMLModel",
          "state": {
            "_dom_classes": [],
            "_model_module": "@jupyter-widgets/controls",
            "_model_module_version": "1.5.0",
            "_model_name": "HTMLModel",
            "_view_count": null,
            "_view_module": "@jupyter-widgets/controls",
            "_view_module_version": "1.5.0",
            "_view_name": "HTMLView",
            "description": "",
            "description_tooltip": null,
            "layout": "IPY_MODEL_ad74510da9e94b8db3120c3e90a54b01",
            "placeholder": "​",
            "style": "IPY_MODEL_16b3e32a75ea420f8a428e8c4110f395",
            "value": " 8/8 [00:07&lt;00:00,  1.15it/s]"
          }
        },
        "9f5e97b642804a73a8a6f71b5afebe84": {
          "model_module": "@jupyter-widgets/base",
          "model_module_version": "1.2.0",
          "model_name": "LayoutModel",
          "state": {
            "_model_module": "@jupyter-widgets/base",
            "_model_module_version": "1.2.0",
            "_model_name": "LayoutModel",
            "_view_count": null,
            "_view_module": "@jupyter-widgets/base",
            "_view_module_version": "1.2.0",
            "_view_name": "LayoutView",
            "align_content": null,
            "align_items": null,
            "align_self": null,
            "border": null,
            "bottom": null,
            "display": null,
            "flex": null,
            "flex_flow": null,
            "grid_area": null,
            "grid_auto_columns": null,
            "grid_auto_flow": null,
            "grid_auto_rows": null,
            "grid_column": null,
            "grid_gap": null,
            "grid_row": null,
            "grid_template_areas": null,
            "grid_template_columns": null,
            "grid_template_rows": null,
            "height": null,
            "justify_content": null,
            "justify_items": null,
            "left": null,
            "margin": null,
            "max_height": null,
            "max_width": null,
            "min_height": null,
            "min_width": null,
            "object_fit": null,
            "object_position": null,
            "order": null,
            "overflow": null,
            "overflow_x": null,
            "overflow_y": null,
            "padding": null,
            "right": null,
            "top": null,
            "visibility": null,
            "width": null
          }
        },
        "a61ea2867f7a4819bd754cb3709c1f91": {
          "model_module": "@jupyter-widgets/base",
          "model_module_version": "1.2.0",
          "model_name": "LayoutModel",
          "state": {
            "_model_module": "@jupyter-widgets/base",
            "_model_module_version": "1.2.0",
            "_model_name": "LayoutModel",
            "_view_count": null,
            "_view_module": "@jupyter-widgets/base",
            "_view_module_version": "1.2.0",
            "_view_name": "LayoutView",
            "align_content": null,
            "align_items": null,
            "align_self": null,
            "border": null,
            "bottom": null,
            "display": null,
            "flex": null,
            "flex_flow": null,
            "grid_area": null,
            "grid_auto_columns": null,
            "grid_auto_flow": null,
            "grid_auto_rows": null,
            "grid_column": null,
            "grid_gap": null,
            "grid_row": null,
            "grid_template_areas": null,
            "grid_template_columns": null,
            "grid_template_rows": null,
            "height": null,
            "justify_content": null,
            "justify_items": null,
            "left": null,
            "margin": null,
            "max_height": null,
            "max_width": null,
            "min_height": null,
            "min_width": null,
            "object_fit": null,
            "object_position": null,
            "order": null,
            "overflow": null,
            "overflow_x": null,
            "overflow_y": null,
            "padding": null,
            "right": null,
            "top": null,
            "visibility": null,
            "width": null
          }
        },
        "a789627d252d488a85babb84a472e399": {
          "model_module": "@jupyter-widgets/controls",
          "model_module_version": "1.5.0",
          "model_name": "DescriptionStyleModel",
          "state": {
            "_model_module": "@jupyter-widgets/controls",
            "_model_module_version": "1.5.0",
            "_model_name": "DescriptionStyleModel",
            "_view_count": null,
            "_view_module": "@jupyter-widgets/base",
            "_view_module_version": "1.2.0",
            "_view_name": "StyleView",
            "description_width": ""
          }
        },
        "a9bdf08071dd4d9b8163fd0e5fa42bf5": {
          "model_module": "@jupyter-widgets/controls",
          "model_module_version": "1.5.0",
          "model_name": "FloatProgressModel",
          "state": {
            "_dom_classes": [],
            "_model_module": "@jupyter-widgets/controls",
            "_model_module_version": "1.5.0",
            "_model_name": "FloatProgressModel",
            "_view_count": null,
            "_view_module": "@jupyter-widgets/controls",
            "_view_module_version": "1.5.0",
            "_view_name": "ProgressView",
            "bar_style": "success",
            "description": "",
            "description_tooltip": null,
            "layout": "IPY_MODEL_85ed00a733734c50bf55f1eee9184e4e",
            "max": 60,
            "min": 0,
            "orientation": "horizontal",
            "style": "IPY_MODEL_079f4d4132774d618f3d6eef1a1c7cda",
            "value": 60
          }
        },
        "aad277f4232a40fa9fb29dba10e511e5": {
          "model_module": "@jupyter-widgets/controls",
          "model_module_version": "1.5.0",
          "model_name": "DescriptionStyleModel",
          "state": {
            "_model_module": "@jupyter-widgets/controls",
            "_model_module_version": "1.5.0",
            "_model_name": "DescriptionStyleModel",
            "_view_count": null,
            "_view_module": "@jupyter-widgets/base",
            "_view_module_version": "1.2.0",
            "_view_name": "StyleView",
            "description_width": ""
          }
        },
        "ad74510da9e94b8db3120c3e90a54b01": {
          "model_module": "@jupyter-widgets/base",
          "model_module_version": "1.2.0",
          "model_name": "LayoutModel",
          "state": {
            "_model_module": "@jupyter-widgets/base",
            "_model_module_version": "1.2.0",
            "_model_name": "LayoutModel",
            "_view_count": null,
            "_view_module": "@jupyter-widgets/base",
            "_view_module_version": "1.2.0",
            "_view_name": "LayoutView",
            "align_content": null,
            "align_items": null,
            "align_self": null,
            "border": null,
            "bottom": null,
            "display": null,
            "flex": null,
            "flex_flow": null,
            "grid_area": null,
            "grid_auto_columns": null,
            "grid_auto_flow": null,
            "grid_auto_rows": null,
            "grid_column": null,
            "grid_gap": null,
            "grid_row": null,
            "grid_template_areas": null,
            "grid_template_columns": null,
            "grid_template_rows": null,
            "height": null,
            "justify_content": null,
            "justify_items": null,
            "left": null,
            "margin": null,
            "max_height": null,
            "max_width": null,
            "min_height": null,
            "min_width": null,
            "object_fit": null,
            "object_position": null,
            "order": null,
            "overflow": null,
            "overflow_x": null,
            "overflow_y": null,
            "padding": null,
            "right": null,
            "top": null,
            "visibility": null,
            "width": null
          }
        },
        "b70a1e1d6ba047c38cd24f694869d5a3": {
          "model_module": "@jupyter-widgets/controls",
          "model_module_version": "1.5.0",
          "model_name": "HTMLModel",
          "state": {
            "_dom_classes": [],
            "_model_module": "@jupyter-widgets/controls",
            "_model_module_version": "1.5.0",
            "_model_name": "HTMLModel",
            "_view_count": null,
            "_view_module": "@jupyter-widgets/controls",
            "_view_module_version": "1.5.0",
            "_view_name": "HTMLView",
            "description": "",
            "description_tooltip": null,
            "layout": "IPY_MODEL_84d0b1f83d8a428c8759c9f7f0a64f97",
            "placeholder": "​",
            "style": "IPY_MODEL_a789627d252d488a85babb84a472e399",
            "value": " 26/26 [00:38&lt;00:00,  1.12s/it]"
          }
        },
        "c63a8f1b6a034fcb8f5abd006dd192f8": {
          "model_module": "@jupyter-widgets/base",
          "model_module_version": "1.2.0",
          "model_name": "LayoutModel",
          "state": {
            "_model_module": "@jupyter-widgets/base",
            "_model_module_version": "1.2.0",
            "_model_name": "LayoutModel",
            "_view_count": null,
            "_view_module": "@jupyter-widgets/base",
            "_view_module_version": "1.2.0",
            "_view_name": "LayoutView",
            "align_content": null,
            "align_items": null,
            "align_self": null,
            "border": null,
            "bottom": null,
            "display": null,
            "flex": null,
            "flex_flow": null,
            "grid_area": null,
            "grid_auto_columns": null,
            "grid_auto_flow": null,
            "grid_auto_rows": null,
            "grid_column": null,
            "grid_gap": null,
            "grid_row": null,
            "grid_template_areas": null,
            "grid_template_columns": null,
            "grid_template_rows": null,
            "height": null,
            "justify_content": null,
            "justify_items": null,
            "left": null,
            "margin": null,
            "max_height": null,
            "max_width": null,
            "min_height": null,
            "min_width": null,
            "object_fit": null,
            "object_position": null,
            "order": null,
            "overflow": null,
            "overflow_x": null,
            "overflow_y": null,
            "padding": null,
            "right": null,
            "top": null,
            "visibility": null,
            "width": null
          }
        },
        "c6d2621064a44615941642aa99e68dc4": {
          "model_module": "@jupyter-widgets/controls",
          "model_module_version": "1.5.0",
          "model_name": "HTMLModel",
          "state": {
            "_dom_classes": [],
            "_model_module": "@jupyter-widgets/controls",
            "_model_module_version": "1.5.0",
            "_model_name": "HTMLModel",
            "_view_count": null,
            "_view_module": "@jupyter-widgets/controls",
            "_view_module_version": "1.5.0",
            "_view_name": "HTMLView",
            "description": "",
            "description_tooltip": null,
            "layout": "IPY_MODEL_9f5e97b642804a73a8a6f71b5afebe84",
            "placeholder": "​",
            "style": "IPY_MODEL_f2172cb6d8314698917524e5712f4e70",
            "value": "Batches: 100%"
          }
        },
        "cfc66ce0c2bf433fbbf1cfc430e33918": {
          "model_module": "@jupyter-widgets/controls",
          "model_module_version": "1.5.0",
          "model_name": "ProgressStyleModel",
          "state": {
            "_model_module": "@jupyter-widgets/controls",
            "_model_module_version": "1.5.0",
            "_model_name": "ProgressStyleModel",
            "_view_count": null,
            "_view_module": "@jupyter-widgets/base",
            "_view_module_version": "1.2.0",
            "_view_name": "StyleView",
            "bar_color": null,
            "description_width": ""
          }
        },
        "d08a0c5439e24bb69d40a5707f3bc5da": {
          "model_module": "@jupyter-widgets/base",
          "model_module_version": "1.2.0",
          "model_name": "LayoutModel",
          "state": {
            "_model_module": "@jupyter-widgets/base",
            "_model_module_version": "1.2.0",
            "_model_name": "LayoutModel",
            "_view_count": null,
            "_view_module": "@jupyter-widgets/base",
            "_view_module_version": "1.2.0",
            "_view_name": "LayoutView",
            "align_content": null,
            "align_items": null,
            "align_self": null,
            "border": null,
            "bottom": null,
            "display": null,
            "flex": null,
            "flex_flow": null,
            "grid_area": null,
            "grid_auto_columns": null,
            "grid_auto_flow": null,
            "grid_auto_rows": null,
            "grid_column": null,
            "grid_gap": null,
            "grid_row": null,
            "grid_template_areas": null,
            "grid_template_columns": null,
            "grid_template_rows": null,
            "height": null,
            "justify_content": null,
            "justify_items": null,
            "left": null,
            "margin": null,
            "max_height": null,
            "max_width": null,
            "min_height": null,
            "min_width": null,
            "object_fit": null,
            "object_position": null,
            "order": null,
            "overflow": null,
            "overflow_x": null,
            "overflow_y": null,
            "padding": null,
            "right": null,
            "top": null,
            "visibility": null,
            "width": null
          }
        },
        "d2eb1c02640444a98089ac3475e05030": {
          "model_module": "@jupyter-widgets/controls",
          "model_module_version": "1.5.0",
          "model_name": "DescriptionStyleModel",
          "state": {
            "_model_module": "@jupyter-widgets/controls",
            "_model_module_version": "1.5.0",
            "_model_name": "DescriptionStyleModel",
            "_view_count": null,
            "_view_module": "@jupyter-widgets/base",
            "_view_module_version": "1.2.0",
            "_view_name": "StyleView",
            "description_width": ""
          }
        },
        "d4d694b259dd4e8cb971731bf3fe2472": {
          "model_module": "@jupyter-widgets/controls",
          "model_module_version": "1.5.0",
          "model_name": "HTMLModel",
          "state": {
            "_dom_classes": [],
            "_model_module": "@jupyter-widgets/controls",
            "_model_module_version": "1.5.0",
            "_model_name": "HTMLModel",
            "_view_count": null,
            "_view_module": "@jupyter-widgets/controls",
            "_view_module_version": "1.5.0",
            "_view_name": "HTMLView",
            "description": "",
            "description_tooltip": null,
            "layout": "IPY_MODEL_1b59804f21f441cca4a029edcf738b37",
            "placeholder": "​",
            "style": "IPY_MODEL_d2eb1c02640444a98089ac3475e05030",
            "value": " 60/60 [01:23&lt;00:00,  1.50s/it]"
          }
        },
        "d7d82e9edd0b4331a14f1ef85cbd9183": {
          "model_module": "@jupyter-widgets/base",
          "model_module_version": "1.2.0",
          "model_name": "LayoutModel",
          "state": {
            "_model_module": "@jupyter-widgets/base",
            "_model_module_version": "1.2.0",
            "_model_name": "LayoutModel",
            "_view_count": null,
            "_view_module": "@jupyter-widgets/base",
            "_view_module_version": "1.2.0",
            "_view_name": "LayoutView",
            "align_content": null,
            "align_items": null,
            "align_self": null,
            "border": null,
            "bottom": null,
            "display": null,
            "flex": null,
            "flex_flow": null,
            "grid_area": null,
            "grid_auto_columns": null,
            "grid_auto_flow": null,
            "grid_auto_rows": null,
            "grid_column": null,
            "grid_gap": null,
            "grid_row": null,
            "grid_template_areas": null,
            "grid_template_columns": null,
            "grid_template_rows": null,
            "height": null,
            "justify_content": null,
            "justify_items": null,
            "left": null,
            "margin": null,
            "max_height": null,
            "max_width": null,
            "min_height": null,
            "min_width": null,
            "object_fit": null,
            "object_position": null,
            "order": null,
            "overflow": null,
            "overflow_x": null,
            "overflow_y": null,
            "padding": null,
            "right": null,
            "top": null,
            "visibility": null,
            "width": null
          }
        },
        "df20bf968a8843009bc3efb5c7d27305": {
          "model_module": "@jupyter-widgets/controls",
          "model_module_version": "1.5.0",
          "model_name": "ProgressStyleModel",
          "state": {
            "_model_module": "@jupyter-widgets/controls",
            "_model_module_version": "1.5.0",
            "_model_name": "ProgressStyleModel",
            "_view_count": null,
            "_view_module": "@jupyter-widgets/base",
            "_view_module_version": "1.2.0",
            "_view_name": "StyleView",
            "bar_color": null,
            "description_width": ""
          }
        },
        "e09dc45e8bc24dc8a24b91590b822aca": {
          "model_module": "@jupyter-widgets/controls",
          "model_module_version": "1.5.0",
          "model_name": "HTMLModel",
          "state": {
            "_dom_classes": [],
            "_model_module": "@jupyter-widgets/controls",
            "_model_module_version": "1.5.0",
            "_model_name": "HTMLModel",
            "_view_count": null,
            "_view_module": "@jupyter-widgets/controls",
            "_view_module_version": "1.5.0",
            "_view_name": "HTMLView",
            "description": "",
            "description_tooltip": null,
            "layout": "IPY_MODEL_4b45a0e0d00b41ad99cfbff960b667ea",
            "placeholder": "​",
            "style": "IPY_MODEL_aad277f4232a40fa9fb29dba10e511e5",
            "value": "Batches: 100%"
          }
        },
        "ea29ea0042d0443cb301b3389c501ed6": {
          "model_module": "@jupyter-widgets/controls",
          "model_module_version": "1.5.0",
          "model_name": "HBoxModel",
          "state": {
            "_dom_classes": [],
            "_model_module": "@jupyter-widgets/controls",
            "_model_module_version": "1.5.0",
            "_model_name": "HBoxModel",
            "_view_count": null,
            "_view_module": "@jupyter-widgets/controls",
            "_view_module_version": "1.5.0",
            "_view_name": "HBoxView",
            "box_style": "",
            "children": [
              "IPY_MODEL_25e8c442e9494ef189573cdf42ada30c",
              "IPY_MODEL_157a319bb3f54ec893fc294ceed8cd49",
              "IPY_MODEL_87d7f389c99441879b0a88ac50a99e36"
            ],
            "layout": "IPY_MODEL_d08a0c5439e24bb69d40a5707f3bc5da"
          }
        },
        "f2172cb6d8314698917524e5712f4e70": {
          "model_module": "@jupyter-widgets/controls",
          "model_module_version": "1.5.0",
          "model_name": "DescriptionStyleModel",
          "state": {
            "_model_module": "@jupyter-widgets/controls",
            "_model_module_version": "1.5.0",
            "_model_name": "DescriptionStyleModel",
            "_view_count": null,
            "_view_module": "@jupyter-widgets/base",
            "_view_module_version": "1.2.0",
            "_view_name": "StyleView",
            "description_width": ""
          }
        }
      }
    }
  },
  "nbformat": 4,
  "nbformat_minor": 0
}
