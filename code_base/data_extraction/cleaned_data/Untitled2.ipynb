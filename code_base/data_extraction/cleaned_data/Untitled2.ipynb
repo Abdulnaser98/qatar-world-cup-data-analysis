{
 "cells": [
  {
   "cell_type": "markdown",
   "id": "c8aa2cf1",
   "metadata": {},
   "source": [
    "# ***Named Entity Recognition***"
   ]
  },
  {
   "cell_type": "markdown",
   "id": "f80b8870",
   "metadata": {},
   "source": [
    "The goal of named entity recognition is to find all entities that are interessant , like personen , organisaitons \n",
    "and other important entites in order to conduct further analysis on the data ,like finding how are the general \n",
    "sentiment of the media outlets about the obsovered entites "
   ]
  },
  {
   "cell_type": "code",
   "execution_count": null,
   "id": "5fbd6dbb",
   "metadata": {},
   "outputs": [],
   "source": [
    "# import libraries \n",
    "import pandas as pd \n",
    "import nlp \n",
    "import spacy \n",
    "from tqdm import tqdm "
   ]
  },
  {
   "cell_type": "code",
   "execution_count": null,
   "id": "54f24474",
   "metadata": {},
   "outputs": [],
   "source": []
  },
  {
   "cell_type": "code",
   "execution_count": null,
   "id": "2ff4c529",
   "metadata": {},
   "outputs": [],
   "source": []
  },
  {
   "cell_type": "code",
   "execution_count": null,
   "id": "63b29572",
   "metadata": {},
   "outputs": [],
   "source": []
  },
  {
   "cell_type": "code",
   "execution_count": null,
   "id": "b5c79f16",
   "metadata": {},
   "outputs": [],
   "source": []
  },
  {
   "cell_type": "code",
   "execution_count": null,
   "id": "527a897a",
   "metadata": {},
   "outputs": [],
   "source": []
  }
 ],
 "metadata": {
  "kernelspec": {
   "display_name": "Python 3 (ipykernel)",
   "language": "python",
   "name": "python3"
  },
  "language_info": {
   "codemirror_mode": {
    "name": "ipython",
    "version": 3
   },
   "file_extension": ".py",
   "mimetype": "text/x-python",
   "name": "python",
   "nbconvert_exporter": "python",
   "pygments_lexer": "ipython3",
   "version": "3.9.7"
  }
 },
 "nbformat": 4,
 "nbformat_minor": 5
}
