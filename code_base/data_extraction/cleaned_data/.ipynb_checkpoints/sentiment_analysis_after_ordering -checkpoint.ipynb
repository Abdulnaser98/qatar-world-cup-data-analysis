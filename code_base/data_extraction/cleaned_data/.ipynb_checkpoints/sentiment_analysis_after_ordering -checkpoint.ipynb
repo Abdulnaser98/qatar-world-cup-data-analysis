{
 "cells": [
  {
   "cell_type": "code",
   "execution_count": 7,
   "id": "2d5da23d",
   "metadata": {},
   "outputs": [],
   "source": [
    "import pandas as pd "
   ]
  },
  {
   "cell_type": "markdown",
   "id": "c3ecd0c4",
   "metadata": {},
   "source": [
    "import data "
   ]
  },
  {
   "cell_type": "code",
   "execution_count": 8,
   "id": "0272db68",
   "metadata": {},
   "outputs": [],
   "source": [
    "aljazerra_cleaned_data = pd.read_csv(\"aljazerra_cleaned_data.csv\")\n",
    "bbc_cleaned_data = pd.read_csv(\"bbc_cleaned_data.csv\")\n",
    "guardian_cleaned_data = pd.read_csv(\"guardian_cleaned_data.csv\")"
   ]
  },
  {
   "cell_type": "markdown",
   "id": "bfd81a82",
   "metadata": {},
   "source": [
    "statistcial sentiment methods"
   ]
  },
  {
   "cell_type": "code",
   "execution_count": 16,
   "id": "09037b10",
   "metadata": {},
   "outputs": [
    {
     "name": "stdout",
     "output_type": "stream",
     "text": [
      "The general sentiment scores of Aljazerra are: \n",
      " {'positive_mean': 0.16210133495145632, 'negatives_mean': 0.07965898058252423, 'neutral_mean': 0.7406249999999993}\n",
      "The titles sentiment scores of Aljazerra are: \n",
      " {'positive_mean': 0.14447330097087382, 'negatives_mean': 0.07714441747572814, 'neutral_mean': 0.7783847087378643} \n",
      "======================================================\n",
      "The general sentiment scores of Aljazerra are: \n",
      " {'positive_mean': 0.14973672566371685, 'negatives_mean': 0.10438938053097337, 'neutral_mean': 0.7269867256637165}\n",
      "The titles sentiment scores of Aljazerra are: \n",
      " {'positive_mean': 0.13085840707964605, 'negatives_mean': 0.17042477876106188, 'neutral_mean': 0.6943097345132747} \n",
      "======================================================\n",
      "The general sentiment scores of Aljazerra are: \n",
      " {'positive_mean': 0.15921830985915505, 'negatives_mean': 0.10104329681794469, 'neutral_mean': 0.7175727699530529}\n",
      "The titles sentiment scores of Aljazerra are: \n",
      " {'positive_mean': 0.13706468440271263, 'negatives_mean': 0.12905059989567033, 'neutral_mean': 0.7338878455920701} \n",
      "======================================================\n"
     ]
    }
   ],
   "source": [
    "def generate_general_statistical_sentiment_scores(data):\n",
    "    sentiment_scores_general = {'positive_mean':data['title_main_content_positive_mean'].mean(), 'negatives_mean':data['title_main_content_negaitve_mean'].mean(), 'neutral_mean': data['title_main_content_neutral_mean'].mean()}\n",
    "    return sentiment_scores_general\n",
    "       \n",
    "\n",
    "def generate_title_statistical_sentiment_scores(data):\n",
    "    sentiment_scores_titles = {'positive_mean': data['title_positive_scores'].mean(), 'negatives_mean': data['title_negative_scores'].mean(), 'neutral_mean':data['title_neutral_scores'].mean()}\n",
    "    return sentiment_scores_titles \n",
    "\n",
    "\n",
    "def print_statiticall_results(data,media_outlet):\n",
    "    sentiment_scores_general_dictionary = generate_general_statistical_sentiment_scores(data)\n",
    "    sentiment_scores_titles_dictionary = generate_title_statistical_sentiment_scores(data)\n",
    "    print(\"The general sentiment scores of {} are: \\n {}\".format(media_outlet,sentiment_scores_general_dictionary))\n",
    "    print(\"The titles sentiment scores of {} are: \\n {} \".format(media_outlet,sentiment_scores_titles_dictionary))\n",
    "    \n",
    "\n",
    "print_statiticall_results(aljazerra_cleaned_data,\"Aljazerra\")  \n",
    "print(\"======================================================\")\n",
    "print_statiticall_results(bbc_cleaned_data,\"Aljazerra\") \n",
    "print(\"======================================================\")\n",
    "print_statiticall_results(guardian_cleaned_data,\"Aljazerra\") \n",
    "print(\"======================================================\")\n",
    "        "
   ]
  }
 ],
 "metadata": {
  "kernelspec": {
   "display_name": "Python 3 (ipykernel)",
   "language": "python",
   "name": "python3"
  },
  "language_info": {
   "codemirror_mode": {
    "name": "ipython",
    "version": 3
   },
   "file_extension": ".py",
   "mimetype": "text/x-python",
   "name": "python",
   "nbconvert_exporter": "python",
   "pygments_lexer": "ipython3",
   "version": "3.9.7"
  }
 },
 "nbformat": 4,
 "nbformat_minor": 5
}
