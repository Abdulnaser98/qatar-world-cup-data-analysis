{
 "cells": [
  {
   "cell_type": "markdown",
   "id": "d4a7d856",
   "metadata": {},
   "source": [
    "# ***Named Entity Recognition***"
   ]
  },
  {
   "cell_type": "markdown",
   "id": "f53063be",
   "metadata": {},
   "source": [
    "The goal of named entity recognition is to find all entities that are interessant , like personen , organisaitons \n",
    "and other important entites in order to conduct further analysis on the data ,like finding how are the general \n",
    "sentiment of the media outlets about the obsovered entites "
   ]
  },
  {
   "cell_type": "code",
   "execution_count": 3,
   "id": "db39238f",
   "metadata": {},
   "outputs": [],
   "source": [
    "# import libraries \n",
    "import pandas as pd \n",
    "import nlp \n",
    "import spacy \n",
    "from tqdm import tqdm "
   ]
  },
  {
   "cell_type": "code",
   "execution_count": null,
   "id": "a05d6e06",
   "metadata": {},
   "outputs": [],
   "source": []
  },
  {
   "cell_type": "code",
   "execution_count": null,
   "id": "dde7ff93",
   "metadata": {},
   "outputs": [],
   "source": []
  },
  {
   "cell_type": "code",
   "execution_count": null,
   "id": "a0b040d9",
   "metadata": {},
   "outputs": [],
   "source": []
  },
  {
   "cell_type": "code",
   "execution_count": null,
   "id": "cfa041b3",
   "metadata": {},
   "outputs": [],
   "source": []
  },
  {
   "cell_type": "code",
   "execution_count": null,
   "id": "6edcbc4d",
   "metadata": {},
   "outputs": [],
   "source": []
  }
 ],
 "metadata": {
  "kernelspec": {
   "display_name": "Python 3 (ipykernel)",
   "language": "python",
   "name": "python3"
  },
  "language_info": {
   "codemirror_mode": {
    "name": "ipython",
    "version": 3
   },
   "file_extension": ".py",
   "mimetype": "text/x-python",
   "name": "python",
   "nbconvert_exporter": "python",
   "pygments_lexer": "ipython3",
   "version": "3.9.7"
  }
 },
 "nbformat": 4,
 "nbformat_minor": 5
}
