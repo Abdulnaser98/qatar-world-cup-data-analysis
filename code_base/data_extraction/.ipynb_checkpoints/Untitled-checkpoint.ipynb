{
 "cells": [
  {
   "cell_type": "code",
   "execution_count": 1,
   "id": "d9b141d6",
   "metadata": {},
   "outputs": [],
   "source": [
    "import pandas as pd "
   ]
  },
  {
   "cell_type": "code",
   "execution_count": 8,
   "id": "5bde7403",
   "metadata": {},
   "outputs": [],
   "source": [
    "guardian_data = pd.read_csv(\"guardian.csv\", sep= \";\",encoding='latin1')"
   ]
  },
  {
   "cell_type": "code",
   "execution_count": 9,
   "id": "5360827d",
   "metadata": {},
   "outputs": [
    {
     "data": {
      "text/html": [
       "<div>\n",
       "<style scoped>\n",
       "    .dataframe tbody tr th:only-of-type {\n",
       "        vertical-align: middle;\n",
       "    }\n",
       "\n",
       "    .dataframe tbody tr th {\n",
       "        vertical-align: top;\n",
       "    }\n",
       "\n",
       "    .dataframe thead th {\n",
       "        text-align: right;\n",
       "    }\n",
       "</style>\n",
       "<table border=\"1\" class=\"dataframe\">\n",
       "  <thead>\n",
       "    <tr style=\"text-align: right;\">\n",
       "      <th></th>\n",
       "      <th>Column1</th>\n",
       "      <th>url</th>\n",
       "      <th>date</th>\n",
       "      <th>title</th>\n",
       "      <th>body</th>\n",
       "    </tr>\n",
       "  </thead>\n",
       "  <tbody>\n",
       "    <tr>\n",
       "      <th>0</th>\n",
       "      <td>1</td>\n",
       "      <td>https://www.theguardian.com/football/2023/jan/...</td>\n",
       "      <td>2023-01-26</td>\n",
       "      <td>Gareth Southgate reveals family persuaded him ...</td>\n",
       "      <td>Gareth Southgate has admitted he considered hi...</td>\n",
       "    </tr>\n",
       "    <tr>\n",
       "      <th>1</th>\n",
       "      <td>2</td>\n",
       "      <td>https://www.theguardian.com/football/2023/jan/...</td>\n",
       "      <td>2023-01-19</td>\n",
       "      <td>Fifas Infantino to discuss Qatar labour exce...</td>\n",
       "      <td>Gianni Infantino is to meet the head of the In...</td>\n",
       "    </tr>\n",
       "    <tr>\n",
       "      <th>2</th>\n",
       "      <td>3</td>\n",
       "      <td>https://www.theguardian.com/football/2023/jan/...</td>\n",
       "      <td>2023-01-09</td>\n",
       "      <td>Gareth Bale announces retirement from football...</td>\n",
       "      <td>Gareth Bale, Wales mens all-time leading goal...</td>\n",
       "    </tr>\n",
       "    <tr>\n",
       "      <th>3</th>\n",
       "      <td>4</td>\n",
       "      <td>https://www.theguardian.com/football/2023/jan/...</td>\n",
       "      <td>2023-01-05</td>\n",
       "      <td>Harry Kane admits World Cup penalty miss will ...</td>\n",
       "      <td>Harry Kane has admitted he will always be haun...</td>\n",
       "    </tr>\n",
       "    <tr>\n",
       "      <th>4</th>\n",
       "      <td>5</td>\n",
       "      <td>https://www.theguardian.com/politics/2023/jan/...</td>\n",
       "      <td>2023-01-04</td>\n",
       "      <td>Welsh first minister criticised for lavish W...</td>\n",
       "      <td>The Welsh first minister has been criticised f...</td>\n",
       "    </tr>\n",
       "  </tbody>\n",
       "</table>\n",
       "</div>"
      ],
      "text/plain": [
       "   Column1                                                url        date  \\\n",
       "0        1  https://www.theguardian.com/football/2023/jan/...  2023-01-26   \n",
       "1        2  https://www.theguardian.com/football/2023/jan/...  2023-01-19   \n",
       "2        3  https://www.theguardian.com/football/2023/jan/...  2023-01-09   \n",
       "3        4  https://www.theguardian.com/football/2023/jan/...  2023-01-05   \n",
       "4        5  https://www.theguardian.com/politics/2023/jan/...  2023-01-04   \n",
       "\n",
       "                                               title  \\\n",
       "0  Gareth Southgate reveals family persuaded him ...   \n",
       "1  Fifas Infantino to discuss Qatar labour exce...   \n",
       "2  Gareth Bale announces retirement from football...   \n",
       "3  Harry Kane admits World Cup penalty miss will ...   \n",
       "4  Welsh first minister criticised for lavish W...   \n",
       "\n",
       "                                                body  \n",
       "0  Gareth Southgate has admitted he considered hi...  \n",
       "1  Gianni Infantino is to meet the head of the In...  \n",
       "2  Gareth Bale, Wales mens all-time leading goal...  \n",
       "3  Harry Kane has admitted he will always be haun...  \n",
       "4  The Welsh first minister has been criticised f...  "
      ]
     },
     "execution_count": 9,
     "metadata": {},
     "output_type": "execute_result"
    }
   ],
   "source": [
    "guardian_data.head()"
   ]
  },
  {
   "cell_type": "code",
   "execution_count": 11,
   "id": "99194ef7",
   "metadata": {},
   "outputs": [
    {
     "data": {
      "text/plain": [
       "(1917, 5)"
      ]
     },
     "execution_count": 11,
     "metadata": {},
     "output_type": "execute_result"
    }
   ],
   "source": [
    "guardian_data.shape"
   ]
  },
  {
   "cell_type": "code",
   "execution_count": null,
   "id": "aeac8e44",
   "metadata": {},
   "outputs": [],
   "source": [
    "guardian_data['body']"
   ]
  }
 ],
 "metadata": {
  "kernelspec": {
   "display_name": "Python 3 (ipykernel)",
   "language": "python",
   "name": "python3"
  },
  "language_info": {
   "codemirror_mode": {
    "name": "ipython",
    "version": 3
   },
   "file_extension": ".py",
   "mimetype": "text/x-python",
   "name": "python",
   "nbconvert_exporter": "python",
   "pygments_lexer": "ipython3",
   "version": "3.9.7"
  }
 },
 "nbformat": 4,
 "nbformat_minor": 5
}
